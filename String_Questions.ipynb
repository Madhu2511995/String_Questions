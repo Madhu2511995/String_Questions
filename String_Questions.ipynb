{
  "nbformat": 4,
  "nbformat_minor": 0,
  "metadata": {
    "colab": {
      "provenance": []
    },
    "kernelspec": {
      "name": "python3",
      "display_name": "Python 3"
    },
    "language_info": {
      "name": "python"
    }
  },
  "cells": [
    {
      "cell_type": "markdown",
      "source": [
        "# **String Questions**"
      ],
      "metadata": {
        "id": "6L3ztqbB54lw"
      }
    },
    {
      "cell_type": "markdown",
      "source": [
        "## **Reverse The given sting**"
      ],
      "metadata": {
        "id": "K3poN9mO6N7k"
      }
    },
    {
      "cell_type": "code",
      "source": [
        "arr=[2,3,4,5]\n",
        "def fnd(arr):\n",
        "  count=0\n",
        "  n=len(arr)\n",
        "  arr.sort()\n",
        "  l=[i for i in range(1,n+1)]\n",
        "  for i in range(n):\n",
        "    if arr[i]!=l[i]:\n",
        "      count+=arr[i]-l[i]\n",
        "  return count\n",
        "fnd(arr)"
      ],
      "metadata": {
        "colab": {
          "base_uri": "https://localhost:8080/"
        },
        "id": "LeYJiHnvDBhq",
        "outputId": "06c5b3e5-d065-44dd-d01f-c2510a03440f"
      },
      "execution_count": null,
      "outputs": [
        {
          "output_type": "execute_result",
          "data": {
            "text/plain": [
              "4"
            ]
          },
          "metadata": {},
          "execution_count": 7
        }
      ]
    },
    {
      "cell_type": "code",
      "source": [
        "# Method 1\n",
        "s=\"I like this program very much\"\n",
        "ans=\"\"\n",
        "n=len(s)\n",
        "prev = n\n",
        "for i in range(n - 1, -1, -1):\n",
        "  if(s[i] == \" \"):\n",
        "    ans += s[i + 1 : prev] + \" \"\n",
        "    prev = i\n",
        "ans += s[0 : prev]\n",
        "print(ans)"
      ],
      "metadata": {
        "colab": {
          "base_uri": "https://localhost:8080/"
        },
        "id": "f8IeToCB8Ic4",
        "outputId": "0c511e4f-45c5-4ab2-ad8e-7476c0981479"
      },
      "execution_count": null,
      "outputs": [
        {
          "output_type": "stream",
          "name": "stdout",
          "text": [
            "much very program this like I\n"
          ]
        }
      ]
    },
    {
      "cell_type": "code",
      "source": [
        "# Method 2\n",
        "s=\"I like this program very much\"\n",
        "ans=''\n",
        "str_list=s.split(' ')\n",
        "ans=\" \".join(str_list[::-1])\n",
        "print(ans)"
      ],
      "metadata": {
        "colab": {
          "base_uri": "https://localhost:8080/"
        },
        "id": "qC4J3Lns6M8e",
        "outputId": "92995f6b-a538-42c1-b417-3f5839c28e09"
      },
      "execution_count": null,
      "outputs": [
        {
          "output_type": "stream",
          "name": "stdout",
          "text": [
            "much very program this like I\n"
          ]
        }
      ]
    },
    {
      "cell_type": "code",
      "source": [
        "# Method 3\n",
        "s=\"I like this program very much\"\n",
        "ans=''\n",
        "rans=''\n",
        "rev_list=[]\n",
        "str_list=s.split(' ')\n",
        "for word in str_list:\n",
        "  rev_list.append(word[::-1])\n",
        "ans+=' '.join(str_list[::-1])\n",
        "rans+=' '.join(rev_list[::-1])\n",
        "print(\"Normal Reverse Order: \",ans)\n",
        "print()\n",
        "print(\"Reverse Word and sentence also Order: \",rans)"
      ],
      "metadata": {
        "colab": {
          "base_uri": "https://localhost:8080/"
        },
        "id": "_1haesvGxoZ7",
        "outputId": "8492ab18-f8f7-41f0-9570-ddb4bd4d8e9c"
      },
      "execution_count": null,
      "outputs": [
        {
          "output_type": "stream",
          "name": "stdout",
          "text": [
            "Normal Reverse Order:  much very program this like I\n",
            "\n",
            "Reverse Word and sentence also Order:  hcum yrev margorp siht ekil I\n"
          ]
        }
      ]
    },
    {
      "cell_type": "code",
      "source": [
        "# Method 4\n",
        "s=\"Madhudan\"\n",
        "r=reversed(s)\n",
        "print(\"\".join(r))"
      ],
      "metadata": {
        "id": "55Nhm8Wv5-fa",
        "colab": {
          "base_uri": "https://localhost:8080/"
        },
        "outputId": "d236f02f-cd21-45b1-aabf-a94cde316b36"
      },
      "execution_count": null,
      "outputs": [
        {
          "output_type": "stream",
          "name": "stdout",
          "text": [
            "naduhdaM\n"
          ]
        }
      ]
    },
    {
      "cell_type": "markdown",
      "source": [
        "## **Reverse The Every Second word of given sting**"
      ],
      "metadata": {
        "id": "YJfecS6Y21T8"
      }
    },
    {
      "cell_type": "code",
      "source": [
        "s=\"I like this program very much\"\n",
        "str_list=s.split(\" \")\n",
        "n=len(str_list)\n",
        "ans=[]\n",
        "for i in range(n):\n",
        "  if i%2!=0:\n",
        "    ans.append(str_list[i][::-1])\n",
        "  else:\n",
        "    ans.append(str_list[i])\n",
        "print(' '.join(ans[::]))\n"
      ],
      "metadata": {
        "id": "N51dD6Tk5-hb",
        "colab": {
          "base_uri": "https://localhost:8080/"
        },
        "outputId": "cac4dd23-be31-4f7f-96f6-a4041b48a75f"
      },
      "execution_count": null,
      "outputs": [
        {
          "output_type": "stream",
          "name": "stdout",
          "text": [
            "I ekil this margorp very hcum\n"
          ]
        }
      ]
    },
    {
      "cell_type": "markdown",
      "source": [
        "\n",
        "## **input: A3B4C1**\n",
        "## **Output: ABC134**"
      ],
      "metadata": {
        "id": "FDok-UQjIygT"
      }
    },
    {
      "cell_type": "code",
      "source": [
        "s=\"Z3B4C1A10\"\n",
        "alphabet=[]\n",
        "digit=[]\n",
        "ans=''\n",
        "for ch in s:\n",
        "  if ch.isnumeric()==True:\n",
        "   digit.append(ch)\n",
        "  else:\n",
        "    alphabet.append(ch)\n",
        "alphabet.sort()\n",
        "digit.sort()\n",
        "for i in alphabet:\n",
        "  ans+=\"\".join(i)\n",
        "for i in digit:\n",
        "  ans+=\"\".join(i)\n",
        "print(ans)\n"
      ],
      "metadata": {
        "id": "BL6Zb0gU5-lh",
        "colab": {
          "base_uri": "https://localhost:8080/"
        },
        "outputId": "d78bf7d6-8f9d-4fdf-ee32-2b07a602f244"
      },
      "execution_count": null,
      "outputs": [
        {
          "output_type": "stream",
          "name": "stdout",
          "text": [
            "ABCZ01134\n"
          ]
        }
      ]
    },
    {
      "cell_type": "code",
      "source": [
        "s=\"Z3B4C1A5\"\n",
        "alphabet=[]\n",
        "digit=[]\n",
        "for ch in s:\n",
        "  if ch.isnumeric()==True:\n",
        "   digit.append(ch)\n",
        "  else:\n",
        "    alphabet.append(ch)\n",
        "print(''.join(sorted(alphabet)+sorted(digit)))"
      ],
      "metadata": {
        "id": "pFtw7Uh95-nN",
        "colab": {
          "base_uri": "https://localhost:8080/"
        },
        "outputId": "e692289c-3c4d-4115-e244-364ec8e8600c"
      },
      "execution_count": null,
      "outputs": [
        {
          "output_type": "stream",
          "name": "stdout",
          "text": [
            "ABCZ1345\n"
          ]
        }
      ]
    },
    {
      "cell_type": "markdown",
      "source": [
        "## **input: a2b3c4**\n",
        "## **output: aabbbcccc**"
      ],
      "metadata": {
        "id": "9Ldzr3QVTDdp"
      }
    },
    {
      "cell_type": "code",
      "source": [
        "s='a2b3c4'\n",
        "ans=''\n",
        "for i in range(len(s)):\n",
        "  if s[i].isalpha():\n",
        "    pass\n",
        "  else:\n",
        "    ans+=s[i-1]*int(s[i])\n",
        "print(ans)"
      ],
      "metadata": {
        "id": "9-k1zYFz5-rN",
        "colab": {
          "base_uri": "https://localhost:8080/"
        },
        "outputId": "cd119a99-4a00-4c96-a5ad-8dbdbc6fb791"
      },
      "execution_count": null,
      "outputs": [
        {
          "output_type": "stream",
          "name": "stdout",
          "text": [
            "aabbbcccc\n"
          ]
        }
      ]
    },
    {
      "cell_type": "markdown",
      "source": [
        "\n",
        "## **input: aabbbcccc**\n",
        "## **output: a2b3c4**"
      ],
      "metadata": {
        "id": "KMgTwEd8VrIk"
      }
    },
    {
      "cell_type": "code",
      "source": [
        "# Method 1\n",
        "s='aabbbcccc'\n",
        "remove_duplicate=list(set(s))\n",
        "d={}\n",
        "ans=''\n",
        "for i in remove_duplicate:\n",
        "  d[i]=s.count(i)\n",
        "for k,v in d.items():\n",
        "  ans+=k\n",
        "  ans+=str(v)\n",
        "print(ans)\n"
      ],
      "metadata": {
        "id": "BDaAyXrL5-s4",
        "colab": {
          "base_uri": "https://localhost:8080/"
        },
        "outputId": "1c9e0e35-e06d-4068-c142-9349544e748b"
      },
      "execution_count": null,
      "outputs": [
        {
          "output_type": "stream",
          "name": "stdout",
          "text": [
            "a2c4b3\n"
          ]
        }
      ]
    },
    {
      "cell_type": "code",
      "source": [
        "#Method 2\n",
        "s='aabbbccccd'\n",
        "prev=s[0]\n",
        "print(prev)\n",
        "count=0\n",
        "ans=''\n",
        "for i in s:\n",
        "  if i==prev:\n",
        "    count+=1\n",
        "  else:\n",
        "    ans+=str(count)+prev\n",
        "    prev=i\n",
        "    count=1\n",
        "ans+=str(count)+prev\n",
        "print(ans)"
      ],
      "metadata": {
        "id": "UwwVp24i5-xA",
        "colab": {
          "base_uri": "https://localhost:8080/"
        },
        "outputId": "d05c82e0-00e9-4e69-b90e-105b2ee69c6c"
      },
      "execution_count": null,
      "outputs": [
        {
          "output_type": "stream",
          "name": "stdout",
          "text": [
            "a\n",
            "2a3b4c1d\n"
          ]
        }
      ]
    },
    {
      "cell_type": "markdown",
      "source": [
        "## **input: a2b3**\n",
        "## **output: acbe**\n",
        "**Unicode a=98**\n",
        "\n",
        "**Unicode A=65**"
      ],
      "metadata": {
        "id": "EPNPlCgDeSmV"
      }
    },
    {
      "cell_type": "code",
      "source": [
        "s='a2b3'\n",
        "ans=''\n",
        "for i in s:\n",
        "  if i.isalpha():\n",
        "    ans+=i\n",
        "    prev=i\n",
        "  else:\n",
        "    ans+=str(chr(ord(prev)+int(i)))\n",
        "print(ans)"
      ],
      "metadata": {
        "id": "KOIDjquN5-yj",
        "colab": {
          "base_uri": "https://localhost:8080/"
        },
        "outputId": "b4a5b632-97a4-435c-e1ac-ac54dfebf365"
      },
      "execution_count": null,
      "outputs": [
        {
          "output_type": "stream",
          "name": "stdout",
          "text": [
            "acbe\n"
          ]
        }
      ]
    },
    {
      "cell_type": "code",
      "source": [
        "l=[1,2,3,[4,5,6]]\n",
        "ans=[]\n",
        "for i in l:\n",
        "  if type(i)==list:\n",
        "    ans.extend(i)\n",
        "  else:\n",
        "    ans.append(i)\n",
        "print(ans)\n"
      ],
      "metadata": {
        "id": "zD1QDuIC5-2O",
        "colab": {
          "base_uri": "https://localhost:8080/"
        },
        "outputId": "b8a036fc-864a-4507-80ea-a23180f1c460"
      },
      "execution_count": null,
      "outputs": [
        {
          "output_type": "stream",
          "name": "stdout",
          "text": [
            "[1, 2, 3, 4, 5, 6]\n"
          ]
        }
      ]
    },
    {
      "cell_type": "markdown",
      "source": [
        "## **Remove the duplicate character from string**"
      ],
      "metadata": {
        "id": "3E12BqdmB-t4"
      }
    },
    {
      "cell_type": "code",
      "source": [
        "# Method 1\n",
        "s='abbccdefghhh'\n",
        "ans=''\n",
        "prev=s[0]\n",
        "ans+=prev\n",
        "for ch in s:\n",
        "  if ch==prev:\n",
        "    pass\n",
        "  else:\n",
        "    ans+=ch\n",
        "    prev=ch\n",
        "print(ans)"
      ],
      "metadata": {
        "id": "uqQNVIxP5-4d",
        "colab": {
          "base_uri": "https://localhost:8080/"
        },
        "outputId": "9ae2f692-24b2-47f8-8a45-c64b71333bf4"
      },
      "execution_count": null,
      "outputs": [
        {
          "output_type": "stream",
          "name": "stdout",
          "text": [
            "abcdefgh\n"
          ]
        }
      ]
    },
    {
      "cell_type": "code",
      "source": [
        "# Method 2\n",
        "s='abbccdefghhh'\n",
        "ans=''\n",
        "for ch in s:\n",
        "  if ch not in ans:\n",
        "    ans+=ch\n",
        "print(ans)"
      ],
      "metadata": {
        "id": "kNUrrHbS5-7r",
        "colab": {
          "base_uri": "https://localhost:8080/"
        },
        "outputId": "9b94a657-255c-4834-afae-6f42a5a59b57"
      },
      "execution_count": null,
      "outputs": [
        {
          "output_type": "stream",
          "name": "stdout",
          "text": [
            "abcdefgh\n"
          ]
        }
      ]
    },
    {
      "cell_type": "code",
      "source": [
        "# Method 3\n",
        "s='abbccdefghhh'\n",
        "ans=''\n",
        "s1=set(s)\n",
        "ans=''.join(s1)\n",
        "print(ans)"
      ],
      "metadata": {
        "id": "OdaZjs9_5-9t",
        "colab": {
          "base_uri": "https://localhost:8080/"
        },
        "outputId": "222f516e-66ec-47c3-800b-0fd0448778c0"
      },
      "execution_count": null,
      "outputs": [
        {
          "output_type": "stream",
          "name": "stdout",
          "text": [
            "bgehfadc\n"
          ]
        }
      ]
    },
    {
      "cell_type": "markdown",
      "source": [
        "## **Find the occurance of character**"
      ],
      "metadata": {
        "id": "QImrmPXYIorB"
      }
    },
    {
      "cell_type": "code",
      "source": [
        "# Method 1 with use of list\n",
        "s='abbcceeeeddd'\n",
        "l=[]\n",
        "for ch in s:\n",
        "  if ch not in l:\n",
        "    l.append(ch)\n",
        "for ch in l:\n",
        "  print(\"{} occure {} times\".format(ch,s.count(ch)))"
      ],
      "metadata": {
        "colab": {
          "base_uri": "https://localhost:8080/"
        },
        "id": "DMr1vvpOIn8N",
        "outputId": "8f8cf1fc-5cc5-4e9d-c1d2-212b5e1a4ea2"
      },
      "execution_count": null,
      "outputs": [
        {
          "output_type": "stream",
          "name": "stdout",
          "text": [
            "a occure 1 times\n",
            "b occure 2 times\n",
            "c occure 2 times\n",
            "e occure 4 times\n",
            "d occure 3 times\n"
          ]
        }
      ]
    },
    {
      "cell_type": "code",
      "source": [
        "# we need in sorted order then\n",
        "s='abbzzzcceeeeddd'\n",
        "l=[]\n",
        "for ch in s:\n",
        "  if ch not in l:\n",
        "    l.append(ch)\n",
        "for ch in sorted(l):\n",
        "  print(\"{} occure {} times\".format(ch,s.count(ch)))"
      ],
      "metadata": {
        "colab": {
          "base_uri": "https://localhost:8080/"
        },
        "id": "KDcjKPhhLfTi",
        "outputId": "8cc4c867-4819-4245-c39e-4c6223cd35c9"
      },
      "execution_count": null,
      "outputs": [
        {
          "output_type": "stream",
          "name": "stdout",
          "text": [
            "a occure 1 times\n",
            "b occure 2 times\n",
            "c occure 2 times\n",
            "d occure 3 times\n",
            "e occure 4 times\n",
            "z occure 3 times\n"
          ]
        }
      ]
    },
    {
      "cell_type": "code",
      "source": [
        "# Method 2 Use of set\n",
        "s='abbzzzcceeeeddd'\n",
        "ans=set(s)\n",
        "for ch in sorted(ans):\n",
        "  print(\"{} occurs {} times\".format(ch,s.count(ch)))"
      ],
      "metadata": {
        "colab": {
          "base_uri": "https://localhost:8080/"
        },
        "id": "TtuL8CkiMIWU",
        "outputId": "d3ce0ee4-5af8-4a43-a3a6-9a6c590b015f"
      },
      "execution_count": null,
      "outputs": [
        {
          "output_type": "stream",
          "name": "stdout",
          "text": [
            "a occurs 1 times\n",
            "b occurs 2 times\n",
            "c occurs 2 times\n",
            "d occurs 3 times\n",
            "e occurs 4 times\n",
            "z occurs 3 times\n"
          ]
        }
      ]
    },
    {
      "cell_type": "code",
      "source": [
        "# Method 3 Use of Dictonary\n",
        "s='abbccddd'\n",
        "ans={}\n",
        "for ch in s:\n",
        "  if ch not in ans:\n",
        "    ans[ch]=1\n",
        "  else:\n",
        "    ans[ch]+=1\n",
        "print(ans)"
      ],
      "metadata": {
        "id": "CTmzxMOv5_Bf",
        "colab": {
          "base_uri": "https://localhost:8080/"
        },
        "outputId": "ef05025d-d4fb-4021-c24c-3944f08ca053"
      },
      "execution_count": null,
      "outputs": [
        {
          "output_type": "stream",
          "name": "stdout",
          "text": [
            "{'a': 1, 'b': 2, 'c': 2, 'd': 3}\n"
          ]
        }
      ]
    },
    {
      "cell_type": "code",
      "source": [
        "# Method 4\n",
        "s='ddabbcaaccbbd'\n",
        "d={}\n",
        "for ch in sorted(s):\n",
        "  d[ch]=d.get(ch,0)+1\n",
        "print(d)"
      ],
      "metadata": {
        "colab": {
          "base_uri": "https://localhost:8080/"
        },
        "id": "0Ox5iZNgQ6TY",
        "outputId": "a24a83c0-1e57-4954-b452-09382c3bf2a5"
      },
      "execution_count": null,
      "outputs": [
        {
          "output_type": "stream",
          "name": "stdout",
          "text": [
            "{'a': 3, 'b': 4, 'c': 3, 'd': 3}\n"
          ]
        }
      ]
    },
    {
      "cell_type": "code",
      "source": [
        "# Method 5\n",
        "# Dict Comprehancen\n",
        "s='abbcccd'\n",
        "ans={ch:s.count(ch) for ch in s}\n",
        "print(ans)"
      ],
      "metadata": {
        "id": "BO8qNs2n5_Dg",
        "colab": {
          "base_uri": "https://localhost:8080/"
        },
        "outputId": "bf7a841f-1e62-477f-b9c0-97dec9fae6ea"
      },
      "execution_count": null,
      "outputs": [
        {
          "output_type": "stream",
          "name": "stdout",
          "text": [
            "{'a': 1, 'b': 2, 'c': 3, 'd': 1}\n"
          ]
        }
      ]
    },
    {
      "cell_type": "markdown",
      "source": [
        "## **Write a program to check string is anagram or not**\n",
        "\n",
        "\" Anagrams are a form of wordplay in which the letters of a word or phrase are rearranged to create a new word or phrase. For example, if you take the letters from the words “a gentleman,” you can rearrange them to spell “elegant man.” By rearranging “Clint Eastwood,” you can spell “old west action.” “William Shakespeare” can be rearranged to spell “I’ll make a wise phrase.” Anagrams are used in writing for a variety of purposes, including to provide humor, embed mystery, and create a new identity.\""
      ],
      "metadata": {
        "id": "adAE1xxATweE"
      }
    },
    {
      "cell_type": "code",
      "source": [
        "s1='a gentleman'\n",
        "s2='elegant man'\n",
        "ans='Not Anagrams'\n",
        "if sorted(s1)==sorted(s2):\n",
        "  ans=\"Anagrams\"\n",
        "print(ans)\n",
        "\n",
        "\n"
      ],
      "metadata": {
        "colab": {
          "base_uri": "https://localhost:8080/"
        },
        "id": "z9fBHjwcTvi7",
        "outputId": "42e005a4-22db-48c0-8da8-e6a45b0569ea"
      },
      "execution_count": null,
      "outputs": [
        {
          "output_type": "stream",
          "name": "stdout",
          "text": [
            "Anagrams\n"
          ]
        }
      ]
    },
    {
      "cell_type": "markdown",
      "source": [
        "## **Check given string is palindrom or not**"
      ],
      "metadata": {
        "id": "URW1mYDoxIFa"
      }
    },
    {
      "cell_type": "code",
      "source": [
        "s='level'\n",
        "ans=\"Not Palindrome\"\n",
        "if s ==s[::-1]:\n",
        "  ans=\"Palindrome\"\n",
        "print(ans)\n"
      ],
      "metadata": {
        "colab": {
          "base_uri": "https://localhost:8080/"
        },
        "id": "f6mopNjLxHXW",
        "outputId": "7ad478e4-ff54-4d94-e042-4ac1f14cbec6"
      },
      "execution_count": null,
      "outputs": [
        {
          "output_type": "stream",
          "name": "stdout",
          "text": [
            "Palindrome\n"
          ]
        }
      ]
    },
    {
      "cell_type": "markdown",
      "source": [
        "## **s1=abcdefgh**\n",
        "## **s2=xyz**\n",
        "## **s3=12345**\n",
        "## **output= ax1,by2,cz3,e5,f,g**"
      ],
      "metadata": {
        "id": "WDKGDt8-yS7l"
      }
    },
    {
      "cell_type": "code",
      "source": [
        "s1=\"abcdefgh\"\n",
        "s2=\"xyz\"\n",
        "s3=\"12345\"\n",
        "i=j=k=0\n",
        "while i<len(s1) or j<len(s2) or k<len(s3):\n",
        "  ans=''\n",
        "  if i<len(s1):\n",
        "    ans+=s1[i]\n",
        "    i+=1\n",
        "  if j<len(s2):\n",
        "    ans+=s2[j]\n",
        "    j+=1\n",
        "  if k<len(s3):\n",
        "    ans+=s3[k]\n",
        "    k+=1\n",
        "  print(ans)"
      ],
      "metadata": {
        "id": "enRGZEBe5_JB",
        "colab": {
          "base_uri": "https://localhost:8080/"
        },
        "outputId": "823f1d2a-38a7-4ebc-c1a2-d94b9b156a68"
      },
      "execution_count": null,
      "outputs": [
        {
          "output_type": "stream",
          "name": "stdout",
          "text": [
            "ax1\n",
            "by2\n",
            "cz3\n",
            "d4\n",
            "e5\n",
            "f\n",
            "g\n",
            "h\n"
          ]
        }
      ]
    },
    {
      "cell_type": "code",
      "source": [
        "l=[1,2,3,4,5,6]\n",
        "m=[10,20,30,40,50,60,70]\n",
        "n=[]\n",
        "i=j=0\n",
        "while i<len(l) and j<len(m):\n",
        "  n.append(l[i])\n",
        "  n.append(m[j])\n",
        "  i+=1\n",
        "  j+=1\n",
        "while i<len(l) and len(l)>len(m):\n",
        "  n.append(l[i])\n",
        "  i+=1\n",
        "while j<len(m) and len(m)>len(l):\n",
        "  n.append(m[j])\n",
        "  j+=1\n",
        "print(n)\n"
      ],
      "metadata": {
        "id": "R_AgS81d5_M3",
        "colab": {
          "base_uri": "https://localhost:8080/"
        },
        "outputId": "82444f5b-52d0-445f-f47e-d5ab52d21b13"
      },
      "execution_count": null,
      "outputs": [
        {
          "output_type": "stream",
          "name": "stdout",
          "text": [
            "[1, 10, 2, 20, 3, 30, 4, 40, 5, 50, 6, 60, 70]\n"
          ]
        }
      ]
    },
    {
      "cell_type": "markdown",
      "source": [
        "## **Find The all permutation of given string**"
      ],
      "metadata": {
        "id": "7J85Jfb8K-ov"
      }
    },
    {
      "cell_type": "code",
      "source": [
        "def get_permutation(string, i=0):\n",
        "\n",
        "    if i == len(string):\n",
        "        print(\"\".join(string))\n",
        "\n",
        "    for j in range(i, len(string)):\n",
        "\n",
        "        words = [c for c in string]\n",
        "\n",
        "        # swap\n",
        "        words[i], words[j] = words[j], words[i]\n",
        "\n",
        "        get_permutation(words, i + 1)\n",
        "\n",
        "get_permutation('abc')"
      ],
      "metadata": {
        "id": "PCFNNGoj5_O5",
        "colab": {
          "base_uri": "https://localhost:8080/"
        },
        "outputId": "812850d6-714f-4354-d1ed-51c7a45adf05"
      },
      "execution_count": null,
      "outputs": [
        {
          "output_type": "stream",
          "name": "stdout",
          "text": [
            "abc\n",
            "acb\n",
            "bac\n",
            "bca\n",
            "cba\n",
            "cab\n"
          ]
        }
      ]
    },
    {
      "cell_type": "code",
      "source": [
        "\n",
        "def get_permutation(string, i=0):\n",
        "\n",
        "    if i == len(string):\n",
        "        print(\"\".join(string))\n",
        "\n",
        "    for j in range(i, len(string)):\n",
        "        # swap\n",
        "        string[i], string[j] = string[j], string[i]\n",
        "\n",
        "        get_permutation(string, i + 1)\n",
        "s=['a','b','c']\n",
        "get_permutation(s)"
      ],
      "metadata": {
        "colab": {
          "base_uri": "https://localhost:8080/"
        },
        "id": "ACfEnXSjbXr3",
        "outputId": "f0813db1-ad74-4294-c005-d6bde0ee7a66"
      },
      "execution_count": null,
      "outputs": [
        {
          "output_type": "stream",
          "name": "stdout",
          "text": [
            "abc\n",
            "acb\n",
            "cab\n",
            "cba\n",
            "abc\n",
            "acb\n"
          ]
        }
      ]
    },
    {
      "cell_type": "code",
      "source": [
        "# TC: O(!n)*O(n)\n",
        "def get_permutation(arr, i=0):\n",
        "    if i == len(arr):\n",
        "        print(arr)\n",
        "\n",
        "    for j in range(i, len(arr)):\n",
        "        # swap\n",
        "        arr[i], arr[j] = arr[j], arr[i]\n",
        "\n",
        "        get_permutation(arr, i + 1)\n",
        "arr=[1,2,3]\n",
        "get_permutation(arr)"
      ],
      "metadata": {
        "colab": {
          "base_uri": "https://localhost:8080/"
        },
        "id": "Ivd6tnxrdhcT",
        "outputId": "9e43cc09-a364-4cbc-d912-b56aebcdc8db"
      },
      "execution_count": null,
      "outputs": [
        {
          "output_type": "stream",
          "name": "stdout",
          "text": [
            "[1, 2, 3]\n",
            "[1, 3, 2]\n",
            "[3, 1, 2]\n",
            "[3, 2, 1]\n",
            "[1, 2, 3]\n",
            "[1, 3, 2]\n"
          ]
        }
      ]
    },
    {
      "cell_type": "code",
      "source": [
        "from itertools import permutations\n",
        "s='abc'\n",
        "words = [''.join(p) for p in permutations(s)]\n",
        "\n",
        "print(words)"
      ],
      "metadata": {
        "id": "1kJQ5xjK5_SI",
        "colab": {
          "base_uri": "https://localhost:8080/"
        },
        "outputId": "402de840-c6b7-4593-c5a2-54336ed71005"
      },
      "execution_count": null,
      "outputs": [
        {
          "output_type": "stream",
          "name": "stdout",
          "text": [
            "['abc', 'acb', 'bac', 'bca', 'cab', 'cba']\n"
          ]
        }
      ]
    },
    {
      "cell_type": "markdown",
      "source": [
        "## **Longest Common Prefix**"
      ],
      "metadata": {
        "id": "d_kGJu884Cm1"
      }
    },
    {
      "cell_type": "code",
      "source": [
        "# Method 1\n",
        "# TC: O(len(str_list)*len(minimum word of str_list))\n",
        "\n",
        "str_list=[\"flower\",\"flow\",'flight']\n",
        "\n",
        "def find_prefix(str_list):\n",
        "  ans=''\n",
        "  n=min([len(words) for words in str_list])\n",
        "  for i in range(n):\n",
        "    for words in str_list:\n",
        "      if str_list[0][i]!=words[i]:\n",
        "        return ans\n",
        "    ans+=str_list[0][i]\n",
        "  return ans\n",
        "print(find_prefix(str_list))"
      ],
      "metadata": {
        "id": "XWbEeSxy5_UZ",
        "colab": {
          "base_uri": "https://localhost:8080/"
        },
        "outputId": "ed93a8fe-a8c6-4dc7-9f95-5cd977131024"
      },
      "execution_count": null,
      "outputs": [
        {
          "output_type": "stream",
          "name": "stdout",
          "text": [
            "\n"
          ]
        }
      ]
    },
    {
      "cell_type": "code",
      "source": [
        "# Method 1\n",
        "# TC: O(len(str_list)*len(minimum word of str_list))\n",
        "\n",
        "str_list=[\"club\",'clap','clove']\n",
        "\n",
        "def find_max_prefix(str_list):\n",
        "  ans=''\n",
        "  new_str=sorted(str_list)\n",
        "  first_str=new_str[0]\n",
        "  last_str=new_str[len(new_str)-1]\n",
        "  for i in range(len(first_str)):\n",
        "    if first_str[i]!=last_str[i]:\n",
        "      return ans\n",
        "    ans+=first_str[i]\n",
        "  return ans\n",
        "find_max_prefix(str_list)"
      ],
      "metadata": {
        "id": "fRSUtAlX5_Xw",
        "colab": {
          "base_uri": "https://localhost:8080/",
          "height": 35
        },
        "outputId": "930c44db-5ef0-466f-8572-ecc2971e5120"
      },
      "execution_count": null,
      "outputs": [
        {
          "output_type": "execute_result",
          "data": {
            "text/plain": [
              "'cl'"
            ],
            "application/vnd.google.colaboratory.intrinsic+json": {
              "type": "string"
            }
          },
          "metadata": {},
          "execution_count": 72
        }
      ]
    },
    {
      "cell_type": "markdown",
      "source": [
        "## **Largest Odd Number in String**"
      ],
      "metadata": {
        "id": "JtKRrSCYZrcL"
      }
    },
    {
      "cell_type": "code",
      "source": [
        "# TC : O(n)\n",
        "num=\"3542786\"\n",
        "for i in range(len(num)-1,-1,-1):\n",
        "  if int(num[i])%2!=0:\n",
        "    print(num[0:i+1])\n",
        "    break\n",
        "else:\n",
        "  print(\" \")"
      ],
      "metadata": {
        "id": "3p7amw7R5_d6",
        "colab": {
          "base_uri": "https://localhost:8080/"
        },
        "outputId": "e75702f5-aadb-4e1c-9d4e-097993c5f62c"
      },
      "execution_count": null,
      "outputs": [
        {
          "output_type": "stream",
          "name": "stdout",
          "text": [
            "35427\n"
          ]
        }
      ]
    },
    {
      "cell_type": "markdown",
      "source": [
        "## **Isomorphic Strings**\n",
        "s='egg'\n",
        "\n",
        "t='odd'\n",
        "\n",
        "* we can replace s to t so its isomorphic strings\n",
        "\n",
        "s='foo'\n",
        "\n",
        "t='bar'\n",
        "\n",
        "* we can not replace s to t so its not an isomorphic strings\n"
      ],
      "metadata": {
        "id": "Ivmt68oNcUHz"
      }
    },
    {
      "cell_type": "code",
      "source": [
        "s='foo'\n",
        "t='bar'\n",
        "d={s[i]:t[i] for i in range(len(s))}\n",
        "ans=''\n",
        "for i in s:\n",
        "  ans+=d[i]\n",
        "if t==ans:\n",
        "  print(\"Isomorphic\")\n",
        "else:\n",
        "  print(\"Not Isomorphic\")"
      ],
      "metadata": {
        "id": "zb35Vkhb5_f6",
        "colab": {
          "base_uri": "https://localhost:8080/"
        },
        "outputId": "b05973b8-7457-4dd0-bd4d-bdd00c35ecff"
      },
      "execution_count": null,
      "outputs": [
        {
          "output_type": "stream",
          "name": "stdout",
          "text": [
            "Not Isomorphic\n"
          ]
        }
      ]
    },
    {
      "cell_type": "code",
      "source": [
        "s='foo'\n",
        "t='bar'\n",
        "def isomorphic_str(s,t):\n",
        "  n=len(s)\n",
        "  d1={}\n",
        "  d2={}\n",
        "  for i in range(n):\n",
        "    ch1=s[i]\n",
        "    ch2=t[i]\n",
        "    if (ch1 in d1 and d1[ch1] != ch2) or (ch2 in d2 and d2[ch2]!=ch1) :\n",
        "      return False\n",
        "    else:\n",
        "      d1[ch1]=ch2\n",
        "      d2[ch2]=ch1\n",
        "  return True\n",
        "isomorphic_str(s,t)"
      ],
      "metadata": {
        "id": "P1JAiYLP5_jh",
        "colab": {
          "base_uri": "https://localhost:8080/"
        },
        "outputId": "247ef11e-0fb6-405b-ef82-ce3b5c770431"
      },
      "execution_count": null,
      "outputs": [
        {
          "output_type": "execute_result",
          "data": {
            "text/plain": [
              "True"
            ]
          },
          "metadata": {},
          "execution_count": 91
        }
      ]
    },
    {
      "cell_type": "markdown",
      "source": [
        "\n",
        "# **check whether one string is a rotation of another**"
      ],
      "metadata": {
        "id": "zBlvnVXx8dJs"
      }
    },
    {
      "cell_type": "code",
      "source": [
        "s1=\"abacd\"\n",
        "s2=\"cdab\"\n",
        "s=s1+s2\n",
        "if len(s1)!=len(s2):\n",
        "  print(\"Not Rotation\")\n",
        "elif s.count(s2)>=1:\n",
        "  print(\"Rotation\")\n",
        "else:\n",
        "  print(\"Not Rotation\")"
      ],
      "metadata": {
        "id": "-5IKcTyt5_lk",
        "colab": {
          "base_uri": "https://localhost:8080/"
        },
        "outputId": "f65f0b4a-5422-4cf1-db04-06feec51346f"
      },
      "execution_count": null,
      "outputs": [
        {
          "output_type": "stream",
          "name": "stdout",
          "text": [
            "Not Rotation\n"
          ]
        }
      ]
    },
    {
      "cell_type": "markdown",
      "source": [
        "## **Sort Characters By Frequency**"
      ],
      "metadata": {
        "id": "Frp3ksKVTpJV"
      }
    },
    {
      "cell_type": "code",
      "source": [
        "# input : tree\n",
        "# output : eert or eetr\n",
        "s='tree'\n",
        "d={}\n",
        "for ch in s:\n",
        "  d[ch]=d.get(ch,0)+1\n",
        "res=''\n",
        "for k,v in sorted(d.items()):\n",
        "  res+=k*v\n",
        "print(res)"
      ],
      "metadata": {
        "id": "Mtt_ECPu5_pS",
        "colab": {
          "base_uri": "https://localhost:8080/"
        },
        "outputId": "168d0c77-769d-48a8-8dbd-63ea6303a102"
      },
      "execution_count": null,
      "outputs": [
        {
          "output_type": "stream",
          "name": "stdout",
          "text": [
            "eert\n"
          ]
        }
      ]
    },
    {
      "cell_type": "markdown",
      "source": [
        "## **Integer to Roman**"
      ],
      "metadata": {
        "id": "FjXEjWqJmxfN"
      }
    },
    {
      "cell_type": "code",
      "source": [
        "d={'M':1000,'CM':900,'D':500,'CD':400,'C':100,'XC':90,'L':50,'XL':40,'X':10,'IX':9,'V':5,\"IV\":4,\"I\":1}\n",
        "num=3749\n",
        "ans=''\n",
        "for k,v in d.items():\n",
        "  if num==0:\n",
        "    break\n",
        "  times=num//v\n",
        "  num=num%v\n",
        "  ans+=k*times\n",
        "print(ans)"
      ],
      "metadata": {
        "id": "7xrNHBcG5_u8",
        "colab": {
          "base_uri": "https://localhost:8080/"
        },
        "outputId": "94524cc5-84f9-43bc-f053-673e612a9b5c"
      },
      "execution_count": null,
      "outputs": [
        {
          "output_type": "stream",
          "name": "stdout",
          "text": [
            "MMMDCCXLIX\n"
          ]
        }
      ]
    },
    {
      "cell_type": "markdown",
      "source": [
        "## **Roman to Integer**"
      ],
      "metadata": {
        "id": "_64fUaw07yEV"
      }
    },
    {
      "cell_type": "code",
      "source": [
        "s=\"MMMDCCXLIX\"\n",
        "num=0\n",
        "d={'M':1000,'CM':900,'D':500,'CD':400,'C':100,'XC':90,'L':50,'XL':40,'X':10,'IX':9,'V':5,\"IV\":4,\"I\":1}\n",
        "for i in range(len(s)):\n",
        "    if i==len(s)-1:\n",
        "      num+=d[s[i]]\n",
        "      break\n",
        "    elif d[s[i]]>=d[s[i+1]]:\n",
        "      num+=d[s[i]]\n",
        "    else:\n",
        "      num=num-d[s[i]]\n",
        "\n",
        "print(num)\n",
        "\n"
      ],
      "metadata": {
        "id": "VSTSHp-C5_xJ",
        "colab": {
          "base_uri": "https://localhost:8080/"
        },
        "outputId": "69c54ae4-1079-4864-c5d5-ad3adc181d3c"
      },
      "execution_count": null,
      "outputs": [
        {
          "output_type": "stream",
          "name": "stdout",
          "text": [
            "3749\n"
          ]
        }
      ]
    },
    {
      "cell_type": "markdown",
      "source": [
        "## **Maximum Nesting Depth of Paranthesis**"
      ],
      "metadata": {
        "id": "iKG5A5ECl2KF"
      }
    },
    {
      "cell_type": "code",
      "source": [
        "s='(1+(2*3)+((8)/4))+1'\n",
        "res=0\n",
        "count=0\n",
        "for i in s:\n",
        "  if i=='(':\n",
        "    count+=1\n",
        "    if count>res:\n",
        "      res=count\n",
        "  elif i==')':\n",
        "    count-=1\n",
        "print(res)"
      ],
      "metadata": {
        "id": "aDnjgYMJ5_0t",
        "colab": {
          "base_uri": "https://localhost:8080/"
        },
        "outputId": "eef8d0b7-d682-4411-8866-cc2556463ed9"
      },
      "execution_count": null,
      "outputs": [
        {
          "output_type": "stream",
          "name": "stdout",
          "text": [
            "3\n"
          ]
        }
      ]
    },
    {
      "cell_type": "markdown",
      "source": [
        "##**Remove Outermost Parentheses**"
      ],
      "metadata": {
        "id": "svbKfSLhaHDL"
      }
    },
    {
      "cell_type": "code",
      "source": [
        "s=\"(()) (()())\"\n",
        "count=0\n",
        "ans=''\n",
        "for pr in s:\n",
        "  if pr==\"(\":\n",
        "    if count!=0:\n",
        "      ans+=pr\n",
        "    count+=1\n",
        "\n",
        "  elif pr==\")\" :\n",
        "    count-=1\n",
        "    if count!=0:\n",
        "      ans+=pr\n",
        "\n",
        "\n",
        "print(ans)"
      ],
      "metadata": {
        "colab": {
          "base_uri": "https://localhost:8080/"
        },
        "id": "czSmZBNZaM9o",
        "outputId": "c432241a-55f8-4422-a2c1-8eaefde752ce"
      },
      "execution_count": null,
      "outputs": [
        {
          "output_type": "stream",
          "name": "stdout",
          "text": [
            "()()()\n"
          ]
        }
      ]
    },
    {
      "cell_type": "markdown",
      "source": [
        "## **Implement Atoi**"
      ],
      "metadata": {
        "id": "lPpdJ3CbzqCW"
      }
    },
    {
      "cell_type": "code",
      "source": [
        "s=\"-0012a42\"\n",
        "def myAtoi(s: str) -> int:\n",
        "    res=0\n",
        "    s=s.strip()\n",
        "    n=len(s)\n",
        "    if s=='':\n",
        "      return res\n",
        "    if s[0]=='-':\n",
        "      sign=-1\n",
        "    if s[0] in ['-','+']:\n",
        "      s=s[1:n]\n",
        "      n=n-1\n",
        "    for i in range (n):\n",
        "        if s[i].isdigit():\n",
        "          res=res*10+int(s[i])\n",
        "        else:\n",
        "          break\n",
        "    if res>=2**31:\n",
        "      return 2**31\n",
        "    if res<-2**31:\n",
        "      return -2**31\n",
        "    return res*sign\n",
        "myAtoi(s)"
      ],
      "metadata": {
        "colab": {
          "base_uri": "https://localhost:8080/"
        },
        "id": "LO5bF5nqzomM",
        "outputId": "ef87bcdd-bf0d-4096-ee2f-145952ef053a"
      },
      "execution_count": null,
      "outputs": [
        {
          "output_type": "execute_result",
          "data": {
            "text/plain": [
              "-12"
            ]
          },
          "metadata": {},
          "execution_count": 2
        }
      ]
    },
    {
      "cell_type": "markdown",
      "source": [
        "## **Number of Distinct Substrings in a String**"
      ],
      "metadata": {
        "id": "zNoMTkxCrvEB"
      }
    },
    {
      "cell_type": "code",
      "source": [
        "s='abab'\n",
        "n=len(s)\n",
        "res=set()\n",
        "for i in range(n):\n",
        "  sub_str=''\n",
        "  for j in range(i,n):\n",
        "    sub_str+=s[j]\n",
        "    res.add(sub_str)\n",
        "print(res)\n",
        "print(len(res)+1)\n"
      ],
      "metadata": {
        "id": "zif5hN-F5_2u",
        "colab": {
          "base_uri": "https://localhost:8080/"
        },
        "outputId": "1686dba0-4d26-4995-cc69-605d722f8ff7"
      },
      "execution_count": 4,
      "outputs": [
        {
          "output_type": "stream",
          "name": "stdout",
          "text": [
            "{'abab', 'ab', 'aba', 'a', 'bab', 'b', 'ba'}\n",
            "8\n"
          ]
        }
      ]
    },
    {
      "cell_type": "code",
      "source": [
        "s='abab'\n",
        "n=len(s)\n",
        "res=[]\n",
        "for i in range(n):\n",
        "  sub_str=''\n",
        "  for j in range(i,n):\n",
        "    sub_str+=s[j]\n",
        "    res.append(sub_str)\n",
        "print(res)\n",
        "print(len(res)+1)"
      ],
      "metadata": {
        "colab": {
          "base_uri": "https://localhost:8080/"
        },
        "id": "6h_BuOxXrWS5",
        "outputId": "a4a2bb8a-6924-4949-d46e-38f82e256209"
      },
      "execution_count": 5,
      "outputs": [
        {
          "output_type": "stream",
          "name": "stdout",
          "text": [
            "['a', 'ab', 'aba', 'abab', 'b', 'ba', 'bab', 'a', 'ab', 'b']\n",
            "11\n"
          ]
        }
      ]
    },
    {
      "cell_type": "markdown",
      "source": [
        "## **Sum of Beauty of All Substrings**"
      ],
      "metadata": {
        "id": "2FNqOssZxvJ0"
      }
    },
    {
      "cell_type": "code",
      "source": [
        "s=\"aabcbaa\"\n",
        "ans=0\n",
        "n=len(s)\n",
        "set_ans=set()\n",
        "ans=0\n",
        "for i in range(n):\n",
        "  sub_str=''\n",
        "  for j in range(i,n):\n",
        "    sub_str+=s[j]\n",
        "    if len(sub_str)>=3:\n",
        "      d=set(sub_str)\n",
        "      l=[]\n",
        "      for i in d:\n",
        "        l.append(sub_str.count(i))\n",
        "        mf=max(l)\n",
        "        lf=min(l)\n",
        "      ans+=mf-lf\n",
        "print(ans)\n"
      ],
      "metadata": {
        "id": "p-yf6m2I0Of_",
        "colab": {
          "base_uri": "https://localhost:8080/"
        },
        "outputId": "141ad9fb-8a7f-4b2c-88f3-ccf90343eee8"
      },
      "execution_count": null,
      "outputs": [
        {
          "output_type": "stream",
          "name": "stdout",
          "text": [
            "17\n"
          ]
        }
      ]
    },
    {
      "cell_type": "markdown",
      "source": [
        "## **Longest Palindrome**\n",
        "* Of given stings subtring palindome\n",
        "\n",
        "\n"
      ],
      "metadata": {
        "id": "ikjfvhHTtwnS"
      }
    },
    {
      "cell_type": "code",
      "source": [
        "s =\"abccccdd\"\n",
        "n=len(s)\n",
        "l=[]\n",
        "ans=0\n",
        "for i in range(n):\n",
        "  sub_str=''\n",
        "  for j in range(i,n):\n",
        "    sub_str+=s[j]\n",
        "    l.append(sub_str)\n",
        "  for i in l:\n",
        "    if i==i[::-1] and ans<len(i):\n",
        "      len(i)\n",
        "      ans=len(i)\n",
        "print(ans)"
      ],
      "metadata": {
        "id": "M9a4j9rw6AB8",
        "colab": {
          "base_uri": "https://localhost:8080/"
        },
        "outputId": "f98857a9-7fdc-48df-8acc-e304bca08fbc"
      },
      "execution_count": null,
      "outputs": [
        {
          "output_type": "stream",
          "name": "stdout",
          "text": [
            "4\n"
          ]
        }
      ]
    },
    {
      "cell_type": "markdown",
      "source": [
        "## **Longest Palindrome**\n",
        "* If char is even : Then is totaly use to form palindome\n",
        "* If char count is oddd the we find how many are use to create palindrome\n",
        "* Of given stings possible to create"
      ],
      "metadata": {
        "id": "y_RNFdj669ah"
      }
    },
    {
      "cell_type": "code",
      "source": [
        "# TC : O(n)\n",
        "# SC : O(n)\n",
        "s=\"abccccdd\"\n",
        "char_set=set()\n",
        "ans=0\n",
        "for ch in s:\n",
        "# Check char is present in char_set or not if presnt means the charcter is twise so add 2 in our ans\n",
        "  if ch in char_set:\n",
        "    ans+=2\n",
        "    char_set.remove(ch)\n",
        "  else:\n",
        "    char_set.add(ch)\n",
        "if len(char_set):\n",
        "  ans+=1\n",
        "print(ans)"
      ],
      "metadata": {
        "colab": {
          "base_uri": "https://localhost:8080/"
        },
        "id": "l8nAoeS47bNa",
        "outputId": "3a0899b0-2384-400f-8461-d45b8e1021d6"
      },
      "execution_count": null,
      "outputs": [
        {
          "output_type": "stream",
          "name": "stdout",
          "text": [
            "7\n"
          ]
        }
      ]
    },
    {
      "cell_type": "code",
      "source": [
        "# TC : O(n)\n",
        "# SC : O(n)\n",
        "s =\"abccccdd\"\n",
        "d={}\n",
        "ans=0\n",
        "oddfreq=False\n",
        "for ch in s:\n",
        "  d[ch]=d.get(ch,0)+1\n",
        "for k,v in d.items():\n",
        "  if v%2==0:\n",
        "    ans+=v\n",
        "  else:\n",
        "    ans+=v-1\n",
        "    odd_freq=True\n",
        "if odd_freq:\n",
        "  ans+=1\n",
        "print(ans)\n"
      ],
      "metadata": {
        "colab": {
          "base_uri": "https://localhost:8080/"
        },
        "id": "hof9Z2x9t1hM",
        "outputId": "80716125-15df-44f0-9e2e-5df905851a34"
      },
      "execution_count": null,
      "outputs": [
        {
          "output_type": "stream",
          "name": "stdout",
          "text": [
            "3\n"
          ]
        }
      ]
    },
    {
      "cell_type": "code",
      "source": [],
      "metadata": {
        "id": "Ej6872iyt1k9"
      },
      "execution_count": null,
      "outputs": []
    },
    {
      "cell_type": "code",
      "source": [],
      "metadata": {
        "id": "ilUPurU4t1nk"
      },
      "execution_count": null,
      "outputs": []
    },
    {
      "cell_type": "code",
      "source": [],
      "metadata": {
        "id": "dC6DuNpft1qZ"
      },
      "execution_count": null,
      "outputs": []
    },
    {
      "cell_type": "code",
      "source": [],
      "metadata": {
        "id": "CRu8Rv3it1tG"
      },
      "execution_count": null,
      "outputs": []
    },
    {
      "cell_type": "code",
      "source": [],
      "metadata": {
        "id": "GdY3AoFFt1vq"
      },
      "execution_count": null,
      "outputs": []
    },
    {
      "cell_type": "code",
      "source": [],
      "metadata": {
        "id": "d9amlVa3t1yX"
      },
      "execution_count": null,
      "outputs": []
    },
    {
      "cell_type": "code",
      "source": [],
      "metadata": {
        "id": "6ovewk0Xt11G"
      },
      "execution_count": null,
      "outputs": []
    },
    {
      "cell_type": "code",
      "source": [],
      "metadata": {
        "id": "dT9BpCfZt13-"
      },
      "execution_count": null,
      "outputs": []
    },
    {
      "cell_type": "code",
      "source": [],
      "metadata": {
        "id": "qfkf0gtCt16F"
      },
      "execution_count": null,
      "outputs": []
    },
    {
      "cell_type": "code",
      "source": [],
      "metadata": {
        "id": "OS7vAsS-t19i"
      },
      "execution_count": null,
      "outputs": []
    }
  ]
}