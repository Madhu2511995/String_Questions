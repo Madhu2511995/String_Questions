{
  "nbformat": 4,
  "nbformat_minor": 0,
  "metadata": {
    "colab": {
      "provenance": []
    },
    "kernelspec": {
      "name": "python3",
      "display_name": "Python 3"
    },
    "language_info": {
      "name": "python"
    }
  },
  "cells": [
    {
      "cell_type": "markdown",
      "source": [
        "# **String Questions**"
      ],
      "metadata": {
        "id": "6L3ztqbB54lw"
      }
    },
    {
      "cell_type": "markdown",
      "source": [
        "## **Reverse The given sting**"
      ],
      "metadata": {
        "id": "K3poN9mO6N7k"
      }
    },
    {
      "cell_type": "code",
      "source": [
        "arr=[2,3,4,5]\n",
        "def fnd(arr):\n",
        "  count=0\n",
        "  n=len(arr)\n",
        "  arr.sort()\n",
        "  l=[i for i in range(1,n+1)]\n",
        "  for i in range(n):\n",
        "    if arr[i]!=l[i]:\n",
        "      count+=arr[i]-l[i]\n",
        "  return count\n",
        "fnd(arr)"
      ],
      "metadata": {
        "colab": {
          "base_uri": "https://localhost:8080/"
        },
        "id": "LeYJiHnvDBhq",
        "outputId": "06c5b3e5-d065-44dd-d01f-c2510a03440f"
      },
      "execution_count": null,
      "outputs": [
        {
          "output_type": "execute_result",
          "data": {
            "text/plain": [
              "4"
            ]
          },
          "metadata": {},
          "execution_count": 7
        }
      ]
    },
    {
      "cell_type": "code",
      "source": [
        "# Method 1\n",
        "s=\"I like this program very much\"\n",
        "ans=\"\"\n",
        "n=len(s)\n",
        "prev = n\n",
        "for i in range(n - 1, -1, -1):\n",
        "  if(s[i] == \" \"):\n",
        "    ans += s[i + 1 : prev] + \" \"\n",
        "    prev = i\n",
        "ans += s[0 : prev]\n",
        "print(ans)"
      ],
      "metadata": {
        "colab": {
          "base_uri": "https://localhost:8080/"
        },
        "id": "f8IeToCB8Ic4",
        "outputId": "0c511e4f-45c5-4ab2-ad8e-7476c0981479"
      },
      "execution_count": null,
      "outputs": [
        {
          "output_type": "stream",
          "name": "stdout",
          "text": [
            "much very program this like I\n"
          ]
        }
      ]
    },
    {
      "cell_type": "code",
      "source": [
        "# Method 2\n",
        "s=\"I like this program very much\"\n",
        "ans=''\n",
        "str_list=s.split(' ')\n",
        "ans=\" \".join(str_list[::-1])\n",
        "print(ans)"
      ],
      "metadata": {
        "colab": {
          "base_uri": "https://localhost:8080/"
        },
        "id": "qC4J3Lns6M8e",
        "outputId": "92995f6b-a538-42c1-b417-3f5839c28e09"
      },
      "execution_count": null,
      "outputs": [
        {
          "output_type": "stream",
          "name": "stdout",
          "text": [
            "much very program this like I\n"
          ]
        }
      ]
    },
    {
      "cell_type": "code",
      "source": [
        "# Method 3\n",
        "s=\"I like this program very much\"\n",
        "ans=''\n",
        "rans=''\n",
        "rev_list=[]\n",
        "str_list=s.split(' ')\n",
        "for word in str_list:\n",
        "  rev_list.append(word[::-1])\n",
        "ans+=' '.join(str_list[::-1])\n",
        "rans+=' '.join(rev_list[::-1])\n",
        "print(\"Normal Reverse Order: \",ans)\n",
        "print()\n",
        "print(\"Reverse Word and sentence also Order: \",rans)"
      ],
      "metadata": {
        "colab": {
          "base_uri": "https://localhost:8080/"
        },
        "id": "_1haesvGxoZ7",
        "outputId": "8492ab18-f8f7-41f0-9570-ddb4bd4d8e9c"
      },
      "execution_count": null,
      "outputs": [
        {
          "output_type": "stream",
          "name": "stdout",
          "text": [
            "Normal Reverse Order:  much very program this like I\n",
            "\n",
            "Reverse Word and sentence also Order:  hcum yrev margorp siht ekil I\n"
          ]
        }
      ]
    },
    {
      "cell_type": "code",
      "source": [
        "# Method 4\n",
        "s=\"Madhudan\"\n",
        "r=reversed(s)\n",
        "print(\"\".join(r))"
      ],
      "metadata": {
        "id": "55Nhm8Wv5-fa",
        "colab": {
          "base_uri": "https://localhost:8080/"
        },
        "outputId": "d236f02f-cd21-45b1-aabf-a94cde316b36"
      },
      "execution_count": null,
      "outputs": [
        {
          "output_type": "stream",
          "name": "stdout",
          "text": [
            "naduhdaM\n"
          ]
        }
      ]
    },
    {
      "cell_type": "markdown",
      "source": [
        "## **Reverse The Every Second word of given sting**"
      ],
      "metadata": {
        "id": "YJfecS6Y21T8"
      }
    },
    {
      "cell_type": "code",
      "source": [
        "s=\"I like this program very much\"\n",
        "str_list=s.split(\" \")\n",
        "n=len(str_list)\n",
        "ans=[]\n",
        "for i in range(n):\n",
        "  if i%2!=0:\n",
        "    ans.append(str_list[i][::-1])\n",
        "  else:\n",
        "    ans.append(str_list[i])\n",
        "print(' '.join(ans[::]))\n"
      ],
      "metadata": {
        "id": "N51dD6Tk5-hb",
        "colab": {
          "base_uri": "https://localhost:8080/"
        },
        "outputId": "cac4dd23-be31-4f7f-96f6-a4041b48a75f"
      },
      "execution_count": null,
      "outputs": [
        {
          "output_type": "stream",
          "name": "stdout",
          "text": [
            "I ekil this margorp very hcum\n"
          ]
        }
      ]
    },
    {
      "cell_type": "markdown",
      "source": [
        "\n",
        "## **input: A3B4C1**\n",
        "## **Output: ABC134**"
      ],
      "metadata": {
        "id": "FDok-UQjIygT"
      }
    },
    {
      "cell_type": "code",
      "source": [
        "s=\"Z3B4C1A10\"\n",
        "alphabet=[]\n",
        "digit=[]\n",
        "ans=''\n",
        "for ch in s:\n",
        "  if ch.isnumeric()==True:\n",
        "   digit.append(ch)\n",
        "  else:\n",
        "    alphabet.append(ch)\n",
        "alphabet.sort()\n",
        "digit.sort()\n",
        "for i in alphabet:\n",
        "  ans+=\"\".join(i)\n",
        "for i in digit:\n",
        "  ans+=\"\".join(i)\n",
        "print(ans)\n"
      ],
      "metadata": {
        "id": "BL6Zb0gU5-lh",
        "colab": {
          "base_uri": "https://localhost:8080/"
        },
        "outputId": "d78bf7d6-8f9d-4fdf-ee32-2b07a602f244"
      },
      "execution_count": null,
      "outputs": [
        {
          "output_type": "stream",
          "name": "stdout",
          "text": [
            "ABCZ01134\n"
          ]
        }
      ]
    },
    {
      "cell_type": "code",
      "source": [
        "s=\"Z3B4C1A5\"\n",
        "alphabet=[]\n",
        "digit=[]\n",
        "for ch in s:\n",
        "  if ch.isnumeric()==True:\n",
        "   digit.append(ch)\n",
        "  else:\n",
        "    alphabet.append(ch)\n",
        "print(''.join(sorted(alphabet)+sorted(digit)))"
      ],
      "metadata": {
        "id": "pFtw7Uh95-nN",
        "colab": {
          "base_uri": "https://localhost:8080/"
        },
        "outputId": "e692289c-3c4d-4115-e244-364ec8e8600c"
      },
      "execution_count": null,
      "outputs": [
        {
          "output_type": "stream",
          "name": "stdout",
          "text": [
            "ABCZ1345\n"
          ]
        }
      ]
    },
    {
      "cell_type": "markdown",
      "source": [
        "## **input: a2b3c4**\n",
        "## **output: aabbbcccc**"
      ],
      "metadata": {
        "id": "9Ldzr3QVTDdp"
      }
    },
    {
      "cell_type": "code",
      "source": [
        "s='a2b3c4'\n",
        "ans=''\n",
        "for i in range(len(s)):\n",
        "  if s[i].isalpha():\n",
        "    pass\n",
        "  else:\n",
        "    ans+=s[i-1]*int(s[i])\n",
        "print(ans)"
      ],
      "metadata": {
        "id": "9-k1zYFz5-rN",
        "colab": {
          "base_uri": "https://localhost:8080/"
        },
        "outputId": "cd119a99-4a00-4c96-a5ad-8dbdbc6fb791"
      },
      "execution_count": null,
      "outputs": [
        {
          "output_type": "stream",
          "name": "stdout",
          "text": [
            "aabbbcccc\n"
          ]
        }
      ]
    },
    {
      "cell_type": "markdown",
      "source": [
        "\n",
        "## **input: aabbbcccc**\n",
        "## **output: a2b3c4**"
      ],
      "metadata": {
        "id": "KMgTwEd8VrIk"
      }
    },
    {
      "cell_type": "code",
      "source": [
        "# Method 1\n",
        "s='aabbbcccc'\n",
        "remove_duplicate=list(set(s))\n",
        "d={}\n",
        "ans=''\n",
        "for i in remove_duplicate:\n",
        "  d[i]=s.count(i)\n",
        "for k,v in d.items():\n",
        "  ans+=k\n",
        "  ans+=str(v)\n",
        "print(ans)\n"
      ],
      "metadata": {
        "id": "BDaAyXrL5-s4",
        "colab": {
          "base_uri": "https://localhost:8080/"
        },
        "outputId": "1c9e0e35-e06d-4068-c142-9349544e748b"
      },
      "execution_count": null,
      "outputs": [
        {
          "output_type": "stream",
          "name": "stdout",
          "text": [
            "a2c4b3\n"
          ]
        }
      ]
    },
    {
      "cell_type": "code",
      "source": [
        "#Method 2\n",
        "s='aabbbccccd'\n",
        "prev=s[0]\n",
        "print(prev)\n",
        "count=0\n",
        "ans=''\n",
        "for i in s:\n",
        "  if i==prev:\n",
        "    count+=1\n",
        "  else:\n",
        "    ans+=str(count)+prev\n",
        "    prev=i\n",
        "    count=1\n",
        "ans+=str(count)+prev\n",
        "print(ans)"
      ],
      "metadata": {
        "id": "UwwVp24i5-xA",
        "colab": {
          "base_uri": "https://localhost:8080/"
        },
        "outputId": "d05c82e0-00e9-4e69-b90e-105b2ee69c6c"
      },
      "execution_count": null,
      "outputs": [
        {
          "output_type": "stream",
          "name": "stdout",
          "text": [
            "a\n",
            "2a3b4c1d\n"
          ]
        }
      ]
    },
    {
      "cell_type": "markdown",
      "source": [
        "## **input: a2b3**\n",
        "## **output: acbe**\n",
        "**Unicode a=98**\n",
        "\n",
        "**Unicode A=65**"
      ],
      "metadata": {
        "id": "EPNPlCgDeSmV"
      }
    },
    {
      "cell_type": "code",
      "source": [
        "s='a2b3'\n",
        "ans=''\n",
        "for i in s:\n",
        "  if i.isalpha():\n",
        "    ans+=i\n",
        "    prev=i\n",
        "  else:\n",
        "    ans+=str(chr(ord(prev)+int(i)))\n",
        "print(ans)"
      ],
      "metadata": {
        "id": "KOIDjquN5-yj",
        "colab": {
          "base_uri": "https://localhost:8080/"
        },
        "outputId": "b4a5b632-97a4-435c-e1ac-ac54dfebf365"
      },
      "execution_count": null,
      "outputs": [
        {
          "output_type": "stream",
          "name": "stdout",
          "text": [
            "acbe\n"
          ]
        }
      ]
    },
    {
      "cell_type": "code",
      "source": [
        "l=[1,2,3,[4,5,6]]\n",
        "ans=[]\n",
        "for i in l:\n",
        "  if type(i)==list:\n",
        "    ans.extend(i)\n",
        "  else:\n",
        "    ans.append(i)\n",
        "print(ans)\n"
      ],
      "metadata": {
        "id": "zD1QDuIC5-2O",
        "colab": {
          "base_uri": "https://localhost:8080/"
        },
        "outputId": "b8a036fc-864a-4507-80ea-a23180f1c460"
      },
      "execution_count": null,
      "outputs": [
        {
          "output_type": "stream",
          "name": "stdout",
          "text": [
            "[1, 2, 3, 4, 5, 6]\n"
          ]
        }
      ]
    },
    {
      "cell_type": "markdown",
      "source": [
        "## **Remove the duplicate character from string**"
      ],
      "metadata": {
        "id": "3E12BqdmB-t4"
      }
    },
    {
      "cell_type": "code",
      "source": [
        "# Method 1\n",
        "s='abbccdefghhh'\n",
        "ans=''\n",
        "prev=s[0]\n",
        "ans+=prev\n",
        "for ch in s:\n",
        "  if ch==prev:\n",
        "    pass\n",
        "  else:\n",
        "    ans+=ch\n",
        "    prev=ch\n",
        "print(ans)"
      ],
      "metadata": {
        "id": "uqQNVIxP5-4d",
        "colab": {
          "base_uri": "https://localhost:8080/"
        },
        "outputId": "9ae2f692-24b2-47f8-8a45-c64b71333bf4"
      },
      "execution_count": null,
      "outputs": [
        {
          "output_type": "stream",
          "name": "stdout",
          "text": [
            "abcdefgh\n"
          ]
        }
      ]
    },
    {
      "cell_type": "code",
      "source": [
        "# Method 2\n",
        "s='abbccdefghhh'\n",
        "ans=''\n",
        "for ch in s:\n",
        "  if ch not in ans:\n",
        "    ans+=ch\n",
        "print(ans)"
      ],
      "metadata": {
        "id": "kNUrrHbS5-7r",
        "colab": {
          "base_uri": "https://localhost:8080/"
        },
        "outputId": "9b94a657-255c-4834-afae-6f42a5a59b57"
      },
      "execution_count": null,
      "outputs": [
        {
          "output_type": "stream",
          "name": "stdout",
          "text": [
            "abcdefgh\n"
          ]
        }
      ]
    },
    {
      "cell_type": "code",
      "source": [
        "# Method 3\n",
        "s='abbccdefghhh'\n",
        "ans=''\n",
        "s1=set(s)\n",
        "ans=''.join(s1)\n",
        "print(ans)"
      ],
      "metadata": {
        "id": "OdaZjs9_5-9t",
        "colab": {
          "base_uri": "https://localhost:8080/"
        },
        "outputId": "222f516e-66ec-47c3-800b-0fd0448778c0"
      },
      "execution_count": null,
      "outputs": [
        {
          "output_type": "stream",
          "name": "stdout",
          "text": [
            "bgehfadc\n"
          ]
        }
      ]
    },
    {
      "cell_type": "markdown",
      "source": [
        "## **Find the occurance of character**"
      ],
      "metadata": {
        "id": "QImrmPXYIorB"
      }
    },
    {
      "cell_type": "code",
      "source": [
        "# Method 1 with use of list\n",
        "s='abbcceeeeddd'\n",
        "l=[]\n",
        "for ch in s:\n",
        "  if ch not in l:\n",
        "    l.append(ch)\n",
        "for ch in l:\n",
        "  print(\"{} occure {} times\".format(ch,s.count(ch)))"
      ],
      "metadata": {
        "colab": {
          "base_uri": "https://localhost:8080/"
        },
        "id": "DMr1vvpOIn8N",
        "outputId": "8f8cf1fc-5cc5-4e9d-c1d2-212b5e1a4ea2"
      },
      "execution_count": null,
      "outputs": [
        {
          "output_type": "stream",
          "name": "stdout",
          "text": [
            "a occure 1 times\n",
            "b occure 2 times\n",
            "c occure 2 times\n",
            "e occure 4 times\n",
            "d occure 3 times\n"
          ]
        }
      ]
    },
    {
      "cell_type": "code",
      "source": [
        "# we need in sorted order then\n",
        "s='abbzzzcceeeeddd'\n",
        "l=[]\n",
        "for ch in s:\n",
        "  if ch not in l:\n",
        "    l.append(ch)\n",
        "for ch in sorted(l):\n",
        "  print(\"{} occure {} times\".format(ch,s.count(ch)))"
      ],
      "metadata": {
        "colab": {
          "base_uri": "https://localhost:8080/"
        },
        "id": "KDcjKPhhLfTi",
        "outputId": "8cc4c867-4819-4245-c39e-4c6223cd35c9"
      },
      "execution_count": null,
      "outputs": [
        {
          "output_type": "stream",
          "name": "stdout",
          "text": [
            "a occure 1 times\n",
            "b occure 2 times\n",
            "c occure 2 times\n",
            "d occure 3 times\n",
            "e occure 4 times\n",
            "z occure 3 times\n"
          ]
        }
      ]
    },
    {
      "cell_type": "code",
      "source": [
        "# Method 2 Use of set\n",
        "s='abbzzzcceeeeddd'\n",
        "ans=set(s)\n",
        "for ch in sorted(ans):\n",
        "  print(\"{} occurs {} times\".format(ch,s.count(ch)))"
      ],
      "metadata": {
        "colab": {
          "base_uri": "https://localhost:8080/"
        },
        "id": "TtuL8CkiMIWU",
        "outputId": "d3ce0ee4-5af8-4a43-a3a6-9a6c590b015f"
      },
      "execution_count": null,
      "outputs": [
        {
          "output_type": "stream",
          "name": "stdout",
          "text": [
            "a occurs 1 times\n",
            "b occurs 2 times\n",
            "c occurs 2 times\n",
            "d occurs 3 times\n",
            "e occurs 4 times\n",
            "z occurs 3 times\n"
          ]
        }
      ]
    },
    {
      "cell_type": "code",
      "source": [
        "# Method 3 Use of Dictonary\n",
        "s='abbccddd'\n",
        "ans={}\n",
        "for ch in s:\n",
        "  if ch not in ans:\n",
        "    ans[ch]=1\n",
        "  else:\n",
        "    ans[ch]+=1\n",
        "print(ans)"
      ],
      "metadata": {
        "id": "CTmzxMOv5_Bf",
        "colab": {
          "base_uri": "https://localhost:8080/"
        },
        "outputId": "ef05025d-d4fb-4021-c24c-3944f08ca053"
      },
      "execution_count": null,
      "outputs": [
        {
          "output_type": "stream",
          "name": "stdout",
          "text": [
            "{'a': 1, 'b': 2, 'c': 2, 'd': 3}\n"
          ]
        }
      ]
    },
    {
      "cell_type": "code",
      "source": [
        "# Method 4\n",
        "s='ddabbcaaccbbd'\n",
        "d={}\n",
        "for ch in sorted(s):\n",
        "  d[ch]=d.get(ch,0)+1\n",
        "print(d)"
      ],
      "metadata": {
        "colab": {
          "base_uri": "https://localhost:8080/"
        },
        "id": "0Ox5iZNgQ6TY",
        "outputId": "a24a83c0-1e57-4954-b452-09382c3bf2a5"
      },
      "execution_count": null,
      "outputs": [
        {
          "output_type": "stream",
          "name": "stdout",
          "text": [
            "{'a': 3, 'b': 4, 'c': 3, 'd': 3}\n"
          ]
        }
      ]
    },
    {
      "cell_type": "code",
      "source": [
        "# Method 5\n",
        "# Dict Comprehancen\n",
        "s='abbcccd'\n",
        "ans={ch:s.count(ch) for ch in s}\n",
        "print(ans)"
      ],
      "metadata": {
        "id": "BO8qNs2n5_Dg",
        "colab": {
          "base_uri": "https://localhost:8080/"
        },
        "outputId": "bf7a841f-1e62-477f-b9c0-97dec9fae6ea"
      },
      "execution_count": null,
      "outputs": [
        {
          "output_type": "stream",
          "name": "stdout",
          "text": [
            "{'a': 1, 'b': 2, 'c': 3, 'd': 1}\n"
          ]
        }
      ]
    },
    {
      "cell_type": "markdown",
      "source": [
        "## **Write a program to check string is anagram or not**\n",
        "\n",
        "\" Anagrams are a form of wordplay in which the letters of a word or phrase are rearranged to create a new word or phrase. For example, if you take the letters from the words “a gentleman,” you can rearrange them to spell “elegant man.” By rearranging “Clint Eastwood,” you can spell “old west action.” “William Shakespeare” can be rearranged to spell “I’ll make a wise phrase.” Anagrams are used in writing for a variety of purposes, including to provide humor, embed mystery, and create a new identity.\""
      ],
      "metadata": {
        "id": "adAE1xxATweE"
      }
    },
    {
      "cell_type": "code",
      "source": [
        "s1='a gentleman'\n",
        "s2='elegant man'\n",
        "ans='Not Anagrams'\n",
        "if sorted(s1)==sorted(s2):\n",
        "  ans=\"Anagrams\"\n",
        "print(ans)\n",
        "\n",
        "\n"
      ],
      "metadata": {
        "colab": {
          "base_uri": "https://localhost:8080/"
        },
        "id": "z9fBHjwcTvi7",
        "outputId": "42e005a4-22db-48c0-8da8-e6a45b0569ea"
      },
      "execution_count": null,
      "outputs": [
        {
          "output_type": "stream",
          "name": "stdout",
          "text": [
            "Anagrams\n"
          ]
        }
      ]
    },
    {
      "cell_type": "markdown",
      "source": [
        "## **Check given string is palindrom or not**"
      ],
      "metadata": {
        "id": "URW1mYDoxIFa"
      }
    },
    {
      "cell_type": "code",
      "source": [
        "s='level'\n",
        "ans=\"Not Palindrome\"\n",
        "if s ==s[::-1]:\n",
        "  ans=\"Palindrome\"\n",
        "print(ans)\n"
      ],
      "metadata": {
        "colab": {
          "base_uri": "https://localhost:8080/"
        },
        "id": "f6mopNjLxHXW",
        "outputId": "7ad478e4-ff54-4d94-e042-4ac1f14cbec6"
      },
      "execution_count": null,
      "outputs": [
        {
          "output_type": "stream",
          "name": "stdout",
          "text": [
            "Palindrome\n"
          ]
        }
      ]
    },
    {
      "cell_type": "code",
      "source": [
        "s='level'\n",
        "n=len(s)\n",
        "i=0\n",
        "j=n-1\n",
        "while i<=j:\n",
        "  if s[i]!=s[j]:\n",
        "    print('Not Palindrome')\n",
        "    break\n",
        "  i+=1\n",
        "  j-=1\n",
        "else:\n",
        "  print('Palindrome')\n"
      ],
      "metadata": {
        "colab": {
          "base_uri": "https://localhost:8080/"
        },
        "id": "bQbkrLZxZiVH",
        "outputId": "87e3efb2-de81-4c68-dfa4-61fe7f61b35a"
      },
      "execution_count": null,
      "outputs": [
        {
          "output_type": "stream",
          "name": "stdout",
          "text": [
            "0 4\n",
            "Palindrome\n"
          ]
        }
      ]
    },
    {
      "cell_type": "markdown",
      "source": [
        "## **s1=abcdefgh**\n",
        "## **s2=xyz**\n",
        "## **s3=12345**\n",
        "## **output= ax1,by2,cz3,e5,f,g**"
      ],
      "metadata": {
        "id": "WDKGDt8-yS7l"
      }
    },
    {
      "cell_type": "code",
      "source": [
        "s1=\"abcdefgh\"\n",
        "s2=\"xyz\"\n",
        "s3=\"12345\"\n",
        "i=j=k=0\n",
        "while i<len(s1) or j<len(s2) or k<len(s3):\n",
        "  ans=''\n",
        "  if i<len(s1):\n",
        "    ans+=s1[i]\n",
        "    i+=1\n",
        "  if j<len(s2):\n",
        "    ans+=s2[j]\n",
        "    j+=1\n",
        "  if k<len(s3):\n",
        "    ans+=s3[k]\n",
        "    k+=1\n",
        "  print(ans)"
      ],
      "metadata": {
        "id": "enRGZEBe5_JB",
        "colab": {
          "base_uri": "https://localhost:8080/"
        },
        "outputId": "823f1d2a-38a7-4ebc-c1a2-d94b9b156a68"
      },
      "execution_count": null,
      "outputs": [
        {
          "output_type": "stream",
          "name": "stdout",
          "text": [
            "ax1\n",
            "by2\n",
            "cz3\n",
            "d4\n",
            "e5\n",
            "f\n",
            "g\n",
            "h\n"
          ]
        }
      ]
    },
    {
      "cell_type": "code",
      "source": [
        "l=[1,2,3,4,5,6]\n",
        "m=[10,20,30,40,50,60,70]\n",
        "n=[]\n",
        "i=j=0\n",
        "while i<len(l) and j<len(m):\n",
        "  n.append(l[i])\n",
        "  n.append(m[j])\n",
        "  i+=1\n",
        "  j+=1\n",
        "while i<len(l) and len(l)>len(m):\n",
        "  n.append(l[i])\n",
        "  i+=1\n",
        "while j<len(m) and len(m)>len(l):\n",
        "  n.append(m[j])\n",
        "  j+=1\n",
        "print(n)\n"
      ],
      "metadata": {
        "id": "R_AgS81d5_M3",
        "colab": {
          "base_uri": "https://localhost:8080/"
        },
        "outputId": "82444f5b-52d0-445f-f47e-d5ab52d21b13"
      },
      "execution_count": null,
      "outputs": [
        {
          "output_type": "stream",
          "name": "stdout",
          "text": [
            "[1, 10, 2, 20, 3, 30, 4, 40, 5, 50, 6, 60, 70]\n"
          ]
        }
      ]
    },
    {
      "cell_type": "markdown",
      "source": [
        "## **Find The all permutation of given string**\n",
        "\n",
        "\n",
        "\n"
      ],
      "metadata": {
        "id": "7J85Jfb8K-ov"
      }
    },
    {
      "cell_type": "code",
      "source": [
        "# TC :O(!n*n)\n",
        "# SC: O(n)+O(n)\n",
        "ans=[]\n",
        "def perm(nums,freq:list[int],ds=[]):\n",
        "  if len(ds)==len(nums):\n",
        "    ans.append(ds[:])\n",
        "    return\n",
        "  for i in range(len(nums)):\n",
        "    if not freq[i]:\n",
        "      freq[i]=1\n",
        "      ds.append(nums[i])\n",
        "      perm(nums,freq,ds)\n",
        "      freq[i]=0\n",
        "      ds.pop()\n",
        "nums=[1,2,3]\n",
        "freq=[0]*len(nums)\n",
        "perm(nums,freq)\n",
        "print(ans)"
      ],
      "metadata": {
        "colab": {
          "base_uri": "https://localhost:8080/"
        },
        "id": "wZD4FXcCBcOV",
        "outputId": "b5e917aa-0aed-4b17-935b-4123ef8ee4af"
      },
      "execution_count": null,
      "outputs": [
        {
          "output_type": "stream",
          "name": "stdout",
          "text": [
            "[[1, 2, 3], [1, 3, 2], [2, 1, 3], [2, 3, 1], [3, 1, 2], [3, 2, 1]]\n"
          ]
        }
      ]
    },
    {
      "cell_type": "code",
      "source": [
        "def get_permutation(string, i=0):\n",
        "\n",
        "    if i == len(string):\n",
        "        print(\"\".join(string))\n",
        "\n",
        "    for j in range(i, len(string)):\n",
        "\n",
        "        words = [c for c in string]\n",
        "\n",
        "        # swap\n",
        "        words[i], words[j] = words[j], words[i]\n",
        "\n",
        "        get_permutation(words, i + 1)\n",
        "\n",
        "get_permutation('abc')"
      ],
      "metadata": {
        "id": "PCFNNGoj5_O5",
        "colab": {
          "base_uri": "https://localhost:8080/"
        },
        "outputId": "df515c0c-37a6-4d1f-d115-2b4cada75158"
      },
      "execution_count": null,
      "outputs": [
        {
          "output_type": "stream",
          "name": "stdout",
          "text": [
            "abc\n",
            "acb\n",
            "bac\n",
            "bca\n",
            "cba\n",
            "cab\n"
          ]
        }
      ]
    },
    {
      "cell_type": "code",
      "source": [
        "def get_permutation(string, i=0):\n",
        "\n",
        "    if i == len(string):\n",
        "        print(\"\".join(string))\n",
        "\n",
        "    for j in range(i,len(string)):\n",
        "        # swap\n",
        "        string[i], string[j] = string[j], string[i]\n",
        "        get_permutation(string, i + 1)\n",
        "        string[i], string[j] = string[j], string[i]\n",
        "s=['a','b','c']\n",
        "get_permutation(s)"
      ],
      "metadata": {
        "colab": {
          "base_uri": "https://localhost:8080/"
        },
        "id": "ACfEnXSjbXr3",
        "outputId": "b9391230-b4b2-409b-ad65-99564caf41b5"
      },
      "execution_count": null,
      "outputs": [
        {
          "output_type": "stream",
          "name": "stdout",
          "text": [
            "abc\n",
            "acb\n",
            "bac\n",
            "bca\n",
            "cba\n",
            "cab\n"
          ]
        }
      ]
    },
    {
      "cell_type": "code",
      "source": [
        "# TC: O(!n)*O(n)\n",
        "def get_permutation(arr, i=0):\n",
        "    if i == len(arr):\n",
        "      print(arr)\n",
        "    for j in range(i, len(arr)):\n",
        "        # swap\n",
        "        arr[i], arr[j] = arr[j], arr[i]\n",
        "        get_permutation(arr, i + 1)\n",
        "        arr[i], arr[j] = arr[j], arr[i]\n",
        "arr=[1,2,3]\n",
        "get_permutation(arr)"
      ],
      "metadata": {
        "colab": {
          "base_uri": "https://localhost:8080/"
        },
        "id": "Ivd6tnxrdhcT",
        "outputId": "3aa11f45-18c2-44c6-efaa-1abb64f2809d"
      },
      "execution_count": null,
      "outputs": [
        {
          "output_type": "stream",
          "name": "stdout",
          "text": [
            "[1, 2, 3]\n",
            "[1, 3, 2]\n",
            "[2, 1, 3]\n",
            "[2, 3, 1]\n",
            "[3, 2, 1]\n",
            "[3, 1, 2]\n"
          ]
        }
      ]
    },
    {
      "cell_type": "code",
      "source": [
        "ans=[]\n",
        "def get_permutation(arr, i=0):\n",
        "    if i == len(arr):\n",
        "      ans.append(list(arr))\n",
        "      #or us this ans.append(arr[:])\n",
        "    for j in range(i, len(arr)):\n",
        "        # swap\n",
        "        arr[i], arr[j] = arr[j], arr[i]\n",
        "        get_permutation(arr, i + 1)\n",
        "        arr[i], arr[j] = arr[j], arr[i]\n",
        "arr=[1,2,3]\n",
        "get_permutation(arr)\n",
        "print(ans)"
      ],
      "metadata": {
        "colab": {
          "base_uri": "https://localhost:8080/"
        },
        "id": "wiqqtNOFTkx6",
        "outputId": "4f3b175f-1838-41a8-d0c6-287671786d13"
      },
      "execution_count": null,
      "outputs": [
        {
          "output_type": "stream",
          "name": "stdout",
          "text": [
            "[[1, 2, 3], [1, 3, 2], [2, 1, 3], [2, 3, 1], [3, 2, 1], [3, 1, 2]]\n"
          ]
        }
      ]
    },
    {
      "cell_type": "code",
      "source": [
        "from itertools import permutations\n",
        "s='abc'\n",
        "words = [''.join(p) for p in permutations(s)]\n",
        "\n",
        "print(words)"
      ],
      "metadata": {
        "id": "1kJQ5xjK5_SI",
        "colab": {
          "base_uri": "https://localhost:8080/"
        },
        "outputId": "402de840-c6b7-4593-c5a2-54336ed71005"
      },
      "execution_count": null,
      "outputs": [
        {
          "output_type": "stream",
          "name": "stdout",
          "text": [
            "['abc', 'acb', 'bac', 'bca', 'cab', 'cba']\n"
          ]
        }
      ]
    },
    {
      "cell_type": "markdown",
      "source": [
        "## **Longest Common Prefix**"
      ],
      "metadata": {
        "id": "d_kGJu884Cm1"
      }
    },
    {
      "cell_type": "code",
      "source": [
        "# Method 1\n",
        "# TC: O(len(str_list)*len(minimum word of str_list))\n",
        "\n",
        "str_list=[\"flower\",\"flow\",'flight']\n",
        "\n",
        "def find_prefix(str_list):\n",
        "  ans=''\n",
        "  n=min([len(words) for words in str_list])\n",
        "  for i in range(n):\n",
        "    for words in str_list:\n",
        "      if str_list[0][i]!=words[i]:\n",
        "        return ans\n",
        "    ans+=str_list[0][i]\n",
        "  return ans\n",
        "print(find_prefix(str_list))"
      ],
      "metadata": {
        "id": "XWbEeSxy5_UZ",
        "colab": {
          "base_uri": "https://localhost:8080/"
        },
        "outputId": "ed93a8fe-a8c6-4dc7-9f95-5cd977131024"
      },
      "execution_count": null,
      "outputs": [
        {
          "output_type": "stream",
          "name": "stdout",
          "text": [
            "\n"
          ]
        }
      ]
    },
    {
      "cell_type": "code",
      "source": [
        "# Method 1\n",
        "# TC: O(len(str_list)*len(minimum word of str_list))\n",
        "\n",
        "str_list=[\"club\",'clap','clove']\n",
        "\n",
        "def find_max_prefix(str_list):\n",
        "  ans=''\n",
        "  new_str=sorted(str_list)\n",
        "  first_str=new_str[0]\n",
        "  last_str=new_str[len(new_str)-1]\n",
        "  for i in range(len(first_str)):\n",
        "    if first_str[i]!=last_str[i]:\n",
        "      return ans\n",
        "    ans+=first_str[i]\n",
        "  return ans\n",
        "find_max_prefix(str_list)"
      ],
      "metadata": {
        "id": "fRSUtAlX5_Xw",
        "colab": {
          "base_uri": "https://localhost:8080/",
          "height": 35
        },
        "outputId": "930c44db-5ef0-466f-8572-ecc2971e5120"
      },
      "execution_count": null,
      "outputs": [
        {
          "output_type": "execute_result",
          "data": {
            "text/plain": [
              "'cl'"
            ],
            "application/vnd.google.colaboratory.intrinsic+json": {
              "type": "string"
            }
          },
          "metadata": {},
          "execution_count": 72
        }
      ]
    },
    {
      "cell_type": "markdown",
      "source": [
        "## **Largest Odd Number in String**"
      ],
      "metadata": {
        "id": "JtKRrSCYZrcL"
      }
    },
    {
      "cell_type": "code",
      "source": [
        "# TC : O(n)\n",
        "num=\"3542786\"\n",
        "for i in range(len(num)-1,-1,-1):\n",
        "  if int(num[i])%2!=0:\n",
        "    print(num[0:i+1])\n",
        "    break\n",
        "else:\n",
        "  print(\" \")"
      ],
      "metadata": {
        "id": "3p7amw7R5_d6",
        "colab": {
          "base_uri": "https://localhost:8080/"
        },
        "outputId": "e75702f5-aadb-4e1c-9d4e-097993c5f62c"
      },
      "execution_count": null,
      "outputs": [
        {
          "output_type": "stream",
          "name": "stdout",
          "text": [
            "35427\n"
          ]
        }
      ]
    },
    {
      "cell_type": "markdown",
      "source": [
        "## **Isomorphic Strings**\n",
        "s='egg'\n",
        "\n",
        "t='odd'\n",
        "\n",
        "* we can replace s to t so its isomorphic strings\n",
        "\n",
        "s='foo'\n",
        "\n",
        "t='bar'\n",
        "\n",
        "* we can not replace s to t so its not an isomorphic strings\n"
      ],
      "metadata": {
        "id": "Ivmt68oNcUHz"
      }
    },
    {
      "cell_type": "code",
      "source": [
        "s='foo'\n",
        "t='bar'\n",
        "d={s[i]:t[i] for i in range(len(s))}\n",
        "ans=''\n",
        "for i in s:\n",
        "  ans+=d[i]\n",
        "if t==ans:\n",
        "  print(\"Isomorphic\")\n",
        "else:\n",
        "  print(\"Not Isomorphic\")"
      ],
      "metadata": {
        "id": "zb35Vkhb5_f6",
        "colab": {
          "base_uri": "https://localhost:8080/"
        },
        "outputId": "b05973b8-7457-4dd0-bd4d-bdd00c35ecff"
      },
      "execution_count": null,
      "outputs": [
        {
          "output_type": "stream",
          "name": "stdout",
          "text": [
            "Not Isomorphic\n"
          ]
        }
      ]
    },
    {
      "cell_type": "code",
      "source": [
        "s='foo'\n",
        "t='bar'\n",
        "def isomorphic_str(s,t):\n",
        "  n=len(s)\n",
        "  d1={}\n",
        "  d2={}\n",
        "  for i in range(n):\n",
        "    ch1=s[i]\n",
        "    ch2=t[i]\n",
        "    if (ch1 in d1 and d1[ch1] != ch2) or (ch2 in d2 and d2[ch2]!=ch1) :\n",
        "      return False\n",
        "    else:\n",
        "      d1[ch1]=ch2\n",
        "      d2[ch2]=ch1\n",
        "  return True\n",
        "isomorphic_str(s,t)"
      ],
      "metadata": {
        "id": "P1JAiYLP5_jh",
        "colab": {
          "base_uri": "https://localhost:8080/"
        },
        "outputId": "247ef11e-0fb6-405b-ef82-ce3b5c770431"
      },
      "execution_count": null,
      "outputs": [
        {
          "output_type": "execute_result",
          "data": {
            "text/plain": [
              "True"
            ]
          },
          "metadata": {},
          "execution_count": 91
        }
      ]
    },
    {
      "cell_type": "markdown",
      "source": [
        "\n",
        "# **check whether one string is a rotation of another**"
      ],
      "metadata": {
        "id": "zBlvnVXx8dJs"
      }
    },
    {
      "cell_type": "code",
      "source": [
        "s1=\"abacd\"\n",
        "s2=\"cdab\"\n",
        "s=s1+s2\n",
        "if len(s1)!=len(s2):\n",
        "  print(\"Not Rotation\")\n",
        "elif s.count(s2)>=1:\n",
        "  print(\"Rotation\")\n",
        "else:\n",
        "  print(\"Not Rotation\")"
      ],
      "metadata": {
        "id": "-5IKcTyt5_lk",
        "colab": {
          "base_uri": "https://localhost:8080/"
        },
        "outputId": "f65f0b4a-5422-4cf1-db04-06feec51346f"
      },
      "execution_count": null,
      "outputs": [
        {
          "output_type": "stream",
          "name": "stdout",
          "text": [
            "Not Rotation\n"
          ]
        }
      ]
    },
    {
      "cell_type": "markdown",
      "source": [
        "## **Sort Characters By Frequency**"
      ],
      "metadata": {
        "id": "Frp3ksKVTpJV"
      }
    },
    {
      "cell_type": "code",
      "source": [
        "# input : tree\n",
        "# output : eert or eetr\n",
        "s='tree'\n",
        "d={}\n",
        "for ch in s:\n",
        "  d[ch]=d.get(ch,0)+1\n",
        "res=''\n",
        "for k,v in sorted(d.items()):\n",
        "  res+=k*v\n",
        "print(res)"
      ],
      "metadata": {
        "id": "Mtt_ECPu5_pS",
        "colab": {
          "base_uri": "https://localhost:8080/"
        },
        "outputId": "168d0c77-769d-48a8-8dbd-63ea6303a102"
      },
      "execution_count": null,
      "outputs": [
        {
          "output_type": "stream",
          "name": "stdout",
          "text": [
            "eert\n"
          ]
        }
      ]
    },
    {
      "cell_type": "markdown",
      "source": [
        "## **Integer to Roman**"
      ],
      "metadata": {
        "id": "FjXEjWqJmxfN"
      }
    },
    {
      "cell_type": "code",
      "source": [
        "d={'M':1000,'CM':900,'D':500,'CD':400,'C':100,'XC':90,'L':50,'XL':40,'X':10,'IX':9,'V':5,\"IV\":4,\"I\":1}\n",
        "num=3749\n",
        "ans=''\n",
        "for k,v in d.items():\n",
        "  if num==0:\n",
        "    break\n",
        "  times=num//v\n",
        "  num=num%v\n",
        "  ans+=k*times\n",
        "print(ans)"
      ],
      "metadata": {
        "id": "7xrNHBcG5_u8",
        "colab": {
          "base_uri": "https://localhost:8080/"
        },
        "outputId": "94524cc5-84f9-43bc-f053-673e612a9b5c"
      },
      "execution_count": null,
      "outputs": [
        {
          "output_type": "stream",
          "name": "stdout",
          "text": [
            "MMMDCCXLIX\n"
          ]
        }
      ]
    },
    {
      "cell_type": "markdown",
      "source": [
        "## **Roman to Integer**"
      ],
      "metadata": {
        "id": "_64fUaw07yEV"
      }
    },
    {
      "cell_type": "code",
      "source": [
        "s=\"MMMDCCXLIX\"\n",
        "num=0\n",
        "d={'M':1000,'CM':900,'D':500,'CD':400,'C':100,'XC':90,'L':50,'XL':40,'X':10,'IX':9,'V':5,\"IV\":4,\"I\":1}\n",
        "for i in range(len(s)):\n",
        "    if i==len(s)-1:\n",
        "      num+=d[s[i]]\n",
        "      break\n",
        "    elif d[s[i]]>=d[s[i+1]]:\n",
        "      num+=d[s[i]]\n",
        "    else:\n",
        "      num=num-d[s[i]]\n",
        "\n",
        "print(num)\n",
        "\n"
      ],
      "metadata": {
        "id": "VSTSHp-C5_xJ",
        "colab": {
          "base_uri": "https://localhost:8080/"
        },
        "outputId": "69c54ae4-1079-4864-c5d5-ad3adc181d3c"
      },
      "execution_count": null,
      "outputs": [
        {
          "output_type": "stream",
          "name": "stdout",
          "text": [
            "3749\n"
          ]
        }
      ]
    },
    {
      "cell_type": "markdown",
      "source": [
        "## **Maximum Nesting Depth of Paranthesis**"
      ],
      "metadata": {
        "id": "iKG5A5ECl2KF"
      }
    },
    {
      "cell_type": "code",
      "source": [
        "s='(1+(2*3)+((8)/4))+1'\n",
        "res=0\n",
        "count=0\n",
        "for i in s:\n",
        "  if i=='(':\n",
        "    count+=1\n",
        "    if count>res:\n",
        "      res=count\n",
        "  elif i==')':\n",
        "    count-=1\n",
        "print(res)"
      ],
      "metadata": {
        "id": "aDnjgYMJ5_0t",
        "colab": {
          "base_uri": "https://localhost:8080/"
        },
        "outputId": "eef8d0b7-d682-4411-8866-cc2556463ed9"
      },
      "execution_count": null,
      "outputs": [
        {
          "output_type": "stream",
          "name": "stdout",
          "text": [
            "3\n"
          ]
        }
      ]
    },
    {
      "cell_type": "markdown",
      "source": [
        "##**Remove Outermost Parentheses**"
      ],
      "metadata": {
        "id": "svbKfSLhaHDL"
      }
    },
    {
      "cell_type": "code",
      "source": [
        "s=\"(()())\"\n",
        "stack=[]\n",
        "ans=''\n",
        "for pr in s:\n",
        "  if pr=='(' and len(stack)==0:\n",
        "    stack.append(pr)\n",
        "  elif pr==\"(\":\n",
        "    stack.append(pr)\n",
        "    ans+=pr\n",
        "  elif pr==\")\":\n",
        "    stack.pop()\n",
        "    if len(stack)!=0:\n",
        "      ans+=\")\"\n",
        "print(ans)\n"
      ],
      "metadata": {
        "colab": {
          "base_uri": "https://localhost:8080/"
        },
        "id": "UgsePqJLu-dw",
        "outputId": "4038ae4f-26ea-47bd-b1c6-3d4166c6ae1a"
      },
      "execution_count": null,
      "outputs": [
        {
          "output_type": "stream",
          "name": "stdout",
          "text": [
            "()()\n"
          ]
        }
      ]
    },
    {
      "cell_type": "code",
      "source": [
        "s=\"(()) (()())\"\n",
        "count=0\n",
        "ans=''\n",
        "for pr in s:\n",
        "  if pr==\"(\":\n",
        "    if count!=0:\n",
        "      ans+=pr\n",
        "    count+=1\n",
        "\n",
        "  elif pr==\")\" :\n",
        "    count-=1\n",
        "    if count!=0:\n",
        "      ans+=pr\n",
        "\n",
        "\n",
        "print(ans)"
      ],
      "metadata": {
        "colab": {
          "base_uri": "https://localhost:8080/"
        },
        "id": "czSmZBNZaM9o",
        "outputId": "034cafbd-86c3-414a-ee62-072321185862"
      },
      "execution_count": null,
      "outputs": [
        {
          "output_type": "stream",
          "name": "stdout",
          "text": [
            "\n"
          ]
        }
      ]
    },
    {
      "cell_type": "markdown",
      "source": [
        "### **Valid Parenthesis String**"
      ],
      "metadata": {
        "id": "64SrPUd_P-B3"
      }
    },
    {
      "cell_type": "code",
      "source": [
        "# TC: O(3**n) and SC:O(n)\n",
        "#after Memozation TC: O(n**2) and O(n**2)\n",
        "from functools import lru_cache\n",
        "@lru_cache(maxsize=1000)\n",
        "def validpr(i,s,cnt=0):\n",
        "  if cnt<0:\n",
        "    return False\n",
        "  if i==len(s):\n",
        "    return cnt==0\n",
        "  if s[i]=='(':\n",
        "    return validpr(i+1,s,cnt+1)\n",
        "  elif s[i]==')':\n",
        "    return validpr(i+1,s,cnt-1)\n",
        "  return validpr(i+1,s,cnt+1) or  validpr(i+1,s,cnt-1) or  validpr(i+1,s,cnt)\n",
        "s =\"(((((()*)(*)*))())())(()())())))((**)))))(()())()\"\n",
        "validpr(0,s)\n"
      ],
      "metadata": {
        "colab": {
          "base_uri": "https://localhost:8080/"
        },
        "id": "H1UiQquFP9Th",
        "outputId": "1d16457d-6e4d-4563-835d-9b715991ce4e"
      },
      "execution_count": null,
      "outputs": [
        {
          "output_type": "execute_result",
          "data": {
            "text/plain": [
              "False"
            ]
          },
          "metadata": {},
          "execution_count": 19
        }
      ]
    },
    {
      "cell_type": "code",
      "source": [
        "def fun(s):\n",
        "  min=max=0\n",
        "  for i in range(len(s)):\n",
        "    if s[i]=='(':\n",
        "      min+=1\n",
        "      max+=1\n",
        "    elif s[i]==')':\n",
        "      min-=1\n",
        "      max-=1\n",
        "    else:\n",
        "      min-=1\n",
        "      max+=1\n",
        "    if min<0:\n",
        "      min=0\n",
        "    if max<0:\n",
        "      return False\n",
        "  return min==0\n",
        "s=\"(((((()*)(*)*))())())(()())())))((**)))))(()())()\"\n",
        "fun(s)"
      ],
      "metadata": {
        "colab": {
          "base_uri": "https://localhost:8080/"
        },
        "id": "jZgp525fbmbf",
        "outputId": "303aa7a2-5aeb-45d5-ef18-e784b2571925"
      },
      "execution_count": null,
      "outputs": [
        {
          "output_type": "execute_result",
          "data": {
            "text/plain": [
              "False"
            ]
          },
          "metadata": {},
          "execution_count": 21
        }
      ]
    },
    {
      "cell_type": "markdown",
      "source": [
        "## **Implement Atoi**"
      ],
      "metadata": {
        "id": "lPpdJ3CbzqCW"
      }
    },
    {
      "cell_type": "code",
      "source": [
        "s=\"-0012a42\"\n",
        "def myAtoi(s: str) -> int:\n",
        "    res=0\n",
        "    s=s.strip()\n",
        "    n=len(s)\n",
        "    if s=='':\n",
        "      return res\n",
        "    if s[0]=='-':\n",
        "      sign=-1\n",
        "    if s[0] in ['-','+']:\n",
        "      s=s[1:n]\n",
        "      n=n-1\n",
        "    for i in range (n):\n",
        "        if s[i].isdigit():\n",
        "          res=res*10+int(s[i])\n",
        "        else:\n",
        "          break\n",
        "    if res>=2**31:\n",
        "      return 2**31\n",
        "    if res<-2**31:\n",
        "      return -2**31\n",
        "    return res*sign\n",
        "myAtoi(s)"
      ],
      "metadata": {
        "colab": {
          "base_uri": "https://localhost:8080/"
        },
        "id": "LO5bF5nqzomM",
        "outputId": "ef87bcdd-bf0d-4096-ee2f-145952ef053a"
      },
      "execution_count": null,
      "outputs": [
        {
          "output_type": "execute_result",
          "data": {
            "text/plain": [
              "-12"
            ]
          },
          "metadata": {},
          "execution_count": 2
        }
      ]
    },
    {
      "cell_type": "markdown",
      "source": [
        "## **Number of Distinct Substrings in a String**"
      ],
      "metadata": {
        "id": "zNoMTkxCrvEB"
      }
    },
    {
      "cell_type": "code",
      "source": [
        "s='abc'\n",
        "n=len(s)\n",
        "res=set()\n",
        "for i in range(n):\n",
        "  sub_str=''\n",
        "  for j in range(i,n):\n",
        "    sub_str+=s[j]\n",
        "    res.add(sub_str)\n",
        "print(res)\n",
        "print(len(res)+1)\n"
      ],
      "metadata": {
        "id": "zif5hN-F5_2u",
        "colab": {
          "base_uri": "https://localhost:8080/"
        },
        "outputId": "edc010b7-6059-464f-8684-8a319c2f2c0d"
      },
      "execution_count": null,
      "outputs": [
        {
          "output_type": "stream",
          "name": "stdout",
          "text": [
            "{'bc', 'c', 'a', 'ab', 'b', 'abc'}\n",
            "7\n"
          ]
        }
      ]
    },
    {
      "cell_type": "code",
      "source": [
        "s='abab'\n",
        "n=len(s)\n",
        "res=[]\n",
        "for i in range(n):\n",
        "  sub_str=''\n",
        "  for j in range(i,n):\n",
        "    sub_str+=s[j]\n",
        "    res.append(sub_str)\n",
        "print(res)\n",
        "print(len(res)+1)"
      ],
      "metadata": {
        "colab": {
          "base_uri": "https://localhost:8080/"
        },
        "id": "6h_BuOxXrWS5",
        "outputId": "a4a2bb8a-6924-4949-d46e-38f82e256209"
      },
      "execution_count": null,
      "outputs": [
        {
          "output_type": "stream",
          "name": "stdout",
          "text": [
            "['a', 'ab', 'aba', 'abab', 'b', 'ba', 'bab', 'a', 'ab', 'b']\n",
            "11\n"
          ]
        }
      ]
    },
    {
      "cell_type": "markdown",
      "source": [
        "### **Longest Substring Without Repeating Characters**\n",
        "\n",
        "**Example 1:**\n",
        "\n",
        "Input: s = \"abcdxyzxb\"\n",
        "\n",
        "Output: 7\n",
        "\n",
        "Explanation: The answer is \"abcdxyz\", with the length of 7.\n",
        "\n",
        "**Example 2:**\n",
        "\n",
        "Input: s = \"abcdabcbbxyzt\"\n",
        "\n",
        "Output: 5\n",
        "\n",
        "Explanation: The answer is \"bxyzt\", with the length of 5.\n",
        "\n",
        "**Example 3:**\n",
        "\n",
        "Input: s = \"pwwkew\"\n",
        "\n",
        "Output: 3\n",
        "\n",
        "Explanation: The answer is \"wke\", with the length of 3."
      ],
      "metadata": {
        "id": "mpKCMiWv5GoW"
      }
    },
    {
      "cell_type": "code",
      "source": [
        "s =\"pwwkew\"\n",
        "ans=set()\n",
        "n=len(s)\n",
        "for i in range(n):\n",
        "  sub_str=''\n",
        "  for j in range(i,n):\n",
        "    sub_str+=s[j]\n",
        "    ans.add(sub_str)\n",
        "\n",
        "l=[]\n",
        "for word in ans:\n",
        "  temp=0\n",
        "  for ch in word:\n",
        "    temp+=word.count(ch)\n",
        "  #print(temp)\n",
        "  if temp==len(word):\n",
        "    l.append(word)\n",
        "lenth=max([len(i) for i in l])\n",
        "print(lenth)"
      ],
      "metadata": {
        "colab": {
          "base_uri": "https://localhost:8080/"
        },
        "id": "U_u3qttD5mQI",
        "outputId": "a8cef0f1-1a14-4468-9f4e-d78d6e2d1a6a"
      },
      "execution_count": null,
      "outputs": [
        {
          "output_type": "stream",
          "name": "stdout",
          "text": [
            "3\n"
          ]
        }
      ]
    },
    {
      "cell_type": "code",
      "source": [
        "def brijsolves(s):\n",
        "  d = {}\n",
        "  max_len = 0\n",
        "  for index, char in enumerate(s):\n",
        "    if(char in d):\n",
        "      for key in list(d.keys()):\n",
        "        if(key == char):\n",
        "          del d[key]\n",
        "          break\n",
        "        else:\n",
        "          del d[key]\n",
        "      d[char] = index\n",
        "    else:\n",
        "      d[char] = index\n",
        "    max_len = max(max_len, len(d))\n",
        "  return max_len\n",
        "\n",
        "s = \"pwwkew\"\n",
        "ans = brijsolves(s)\n",
        "print(ans)"
      ],
      "metadata": {
        "colab": {
          "base_uri": "https://localhost:8080/"
        },
        "id": "xIJioIELHYts",
        "outputId": "67639b9e-4f7f-4c69-bb9d-8894ff495f35"
      },
      "execution_count": null,
      "outputs": [
        {
          "output_type": "stream",
          "name": "stdout",
          "text": [
            "3\n"
          ]
        }
      ]
    },
    {
      "cell_type": "markdown",
      "source": [
        "### **Longest Palindromic Substring**"
      ],
      "metadata": {
        "id": "x4khaQOBXq5o"
      }
    },
    {
      "cell_type": "code",
      "source": [
        "def longestPalindrome(s: str):\n",
        "  n=len(s)\n",
        "  ans=set()\n",
        "  for i in range(n):\n",
        "    sub_str=''\n",
        "    for j in range(i,n):\n",
        "      sub_str+=s[j]\n",
        "      ans.add(sub_str)\n",
        "  res=list(ans)\n",
        "  result=''\n",
        "  length=0\n",
        "  for word in res:\n",
        "    if word==word[::-1]:\n",
        "      temp=len(word)\n",
        "      if temp >length:\n",
        "        length=temp\n",
        "        result=word\n",
        "  return result\n",
        "s=\"babad\"\n",
        "longestPalindrome(s)"
      ],
      "metadata": {
        "colab": {
          "base_uri": "https://localhost:8080/",
          "height": 35
        },
        "id": "ePORpCyUXp8o",
        "outputId": "daeb33d5-dcb8-46f4-be2f-3cf97d3df34b"
      },
      "execution_count": null,
      "outputs": [
        {
          "output_type": "execute_result",
          "data": {
            "text/plain": [
              "'aba'"
            ],
            "application/vnd.google.colaboratory.intrinsic+json": {
              "type": "string"
            }
          },
          "metadata": {},
          "execution_count": 110
        }
      ]
    },
    {
      "cell_type": "code",
      "source": [
        "def longestPalindrome(s: str) -> str:\n",
        "  if len(s) <= 1:\n",
        "      return s\n",
        "  Max_Len=1\n",
        "  Max_Str=s[0]\n",
        "  for i in range(len(s)-1):\n",
        "    for j in range(i+1,len(s)):\n",
        "      if j-i+1 > Max_Len and s[i:j+1] == s[i:j+1][::-1]:\n",
        "        Max_Len = j-i+1\n",
        "        Max_Str = s[i:j+1]\n",
        "  return Max_Str\n",
        "\n",
        "s=\"babad\"\n",
        "longestPalindrome(s)"
      ],
      "metadata": {
        "colab": {
          "base_uri": "https://localhost:8080/",
          "height": 35
        },
        "id": "TMc32IbrBhSQ",
        "outputId": "f58546a0-165f-4c1e-d4fd-7c8bff190b95"
      },
      "execution_count": null,
      "outputs": [
        {
          "output_type": "execute_result",
          "data": {
            "text/plain": [
              "'bab'"
            ],
            "application/vnd.google.colaboratory.intrinsic+json": {
              "type": "string"
            }
          },
          "metadata": {},
          "execution_count": 109
        }
      ]
    },
    {
      "cell_type": "code",
      "source": [
        "def longestPalindrome( s: str) -> str:\n",
        "  n=len(s)\n",
        "  ans=''\n",
        "  length=0\n",
        "  for i in range(n):\n",
        "    sub_str=''\n",
        "    for j in range(i,n):\n",
        "      sub_str+=s[j]\n",
        "      if sub_str==sub_str[::-1]:\n",
        "        temp=len(sub_str)\n",
        "        if length<temp:\n",
        "          length=temp\n",
        "          ans=sub_str\n",
        "  return ans\n",
        "\n",
        "s=\"babad\"\n",
        "longestPalindrome(s)"
      ],
      "metadata": {
        "colab": {
          "base_uri": "https://localhost:8080/",
          "height": 35
        },
        "id": "chJvrVdgfiMR",
        "outputId": "18f1cae8-af73-4467-cb4c-f3516a3e63fb"
      },
      "execution_count": null,
      "outputs": [
        {
          "output_type": "execute_result",
          "data": {
            "text/plain": [
              "'bab'"
            ],
            "application/vnd.google.colaboratory.intrinsic+json": {
              "type": "string"
            }
          },
          "metadata": {},
          "execution_count": 16
        }
      ]
    },
    {
      "cell_type": "code",
      "source": [
        "def solve(s,i,j):\n",
        "  if i>j:\n",
        "    return True\n",
        "  if s[i]==s[j]:\n",
        "    return solve(s,i+1,j-1)\n",
        "  return False\n",
        "\n",
        "def palindrome(s):\n",
        "  n=len(s)\n",
        "  max_len=0\n",
        "  sp=0\n",
        "  for i in range(n):\n",
        "    for j in range(i,n):\n",
        "      if solve(s,i,j):\n",
        "        if len(s[i:j+1])>max_len:\n",
        "          max_len=len(s[i:j+1])\n",
        "          sp=i\n",
        "          print(sp,max_len)\n",
        "  return s[sp:sp+max_len]\n",
        "s=\"caaaaa\"\n",
        "s=\"babad\"\n",
        "#s=\"cbbd\"\n",
        "palindrome(s)"
      ],
      "metadata": {
        "colab": {
          "base_uri": "https://localhost:8080/",
          "height": 70
        },
        "id": "nLnmiSVFjvmi",
        "outputId": "8c00bcb0-4d10-4a20-f3af-541e8a611875"
      },
      "execution_count": null,
      "outputs": [
        {
          "output_type": "stream",
          "name": "stdout",
          "text": [
            "0 1\n",
            "1 2\n"
          ]
        },
        {
          "output_type": "execute_result",
          "data": {
            "text/plain": [
              "'bb'"
            ],
            "application/vnd.google.colaboratory.intrinsic+json": {
              "type": "string"
            }
          },
          "metadata": {},
          "execution_count": 105
        }
      ]
    },
    {
      "cell_type": "markdown",
      "source": [
        "### **Longest Common Subsequence**"
      ],
      "metadata": {
        "id": "vlaaPODcK1xl"
      }
    },
    {
      "cell_type": "code",
      "source": [
        "# TC:O(2**len(s1)+len(s2))\n",
        "def solve(s1,s2,i,j):\n",
        "  if i>=len(s1) or j>=len(s2):\n",
        "    return 0\n",
        "  if s1[i]==s2[j]:\n",
        "    return 1 +solve(s1,s2,i+1,j+1)\n",
        "  else:\n",
        "    return max(solve(s1,s2,i,j+1),solve(s1,s2,i+1,j))\n",
        "\n",
        "text1 = \"abcde\"\n",
        "text2 = \"ace\"\n",
        "solve(text1,text2,0,0)"
      ],
      "metadata": {
        "colab": {
          "base_uri": "https://localhost:8080/"
        },
        "id": "m4gUOo6YK3Ua",
        "outputId": "6add4ff4-c482-4c80-dadb-5d972d34b852"
      },
      "execution_count": null,
      "outputs": [
        {
          "output_type": "execute_result",
          "data": {
            "text/plain": [
              "3"
            ]
          },
          "metadata": {},
          "execution_count": 8
        }
      ]
    },
    {
      "cell_type": "code",
      "source": [
        "## Use memozation for two variable and remove time limit excided error\n",
        "def mem(f):\n",
        "  memory = {}\n",
        "  def inner_function(*args):\n",
        "      if args not in memory:\n",
        "          memory[args] = f(*args)\n",
        "      return memory[args]\n",
        "  return inner_function\n",
        "@mem\n",
        "def solve(s1,s2,i,j):\n",
        "  if i>=len(s1) or j>=len(s2):\n",
        "      return 0\n",
        "  if s1[i]==s2[j]:\n",
        "      return 1 +solve(s1,s2,i+1,j+1)\n",
        "  else:\n",
        "      return max(solve(s1,s2,i,j+1),solve(s1,s2,i+1,j))\n",
        "text1 = \"abcde\"\n",
        "text2 = \"ace\"\n",
        "solve(text1,text2,0,0)"
      ],
      "metadata": {
        "colab": {
          "base_uri": "https://localhost:8080/"
        },
        "id": "7MtMI8PAK3X3",
        "outputId": "6e29180a-fe63-4df5-f865-605d7e772390"
      },
      "execution_count": null,
      "outputs": [
        {
          "output_type": "execute_result",
          "data": {
            "text/plain": [
              "3"
            ]
          },
          "metadata": {},
          "execution_count": 9
        }
      ]
    },
    {
      "cell_type": "markdown",
      "source": [
        "### **Longest Palindromic Subsequence**"
      ],
      "metadata": {
        "id": "OgA7o1WYG6nt"
      }
    },
    {
      "cell_type": "code",
      "source": [
        "# get time limit error using power set\n",
        "def longestPalindromeSubseq(s: str) -> int:\n",
        "  ans=set()\n",
        "  n=len(s)\n",
        "  max_len=0\n",
        "  for i in range(2**n):\n",
        "      sub_str=''\n",
        "      for j in range(n):\n",
        "          if i & (1<<j):\n",
        "              sub_str+=s[j]\n",
        "          ans.add(sub_str)\n",
        "  ans=list(ans)\n",
        "  for word in ans:\n",
        "      if word==word[::-1]:\n",
        "          temp=len(word)\n",
        "          if max_len<temp:\n",
        "              max_len=temp\n",
        "  return max_len\n",
        "s=\"ababab\"\n",
        "longestPalindromeSubseq(s)"
      ],
      "metadata": {
        "colab": {
          "base_uri": "https://localhost:8080/"
        },
        "id": "v1Cowewfo004",
        "outputId": "b8d74ff6-53ef-4f09-daff-66a59c08af1b"
      },
      "execution_count": null,
      "outputs": [
        {
          "output_type": "execute_result",
          "data": {
            "text/plain": [
              "5"
            ]
          },
          "metadata": {},
          "execution_count": 112
        }
      ]
    },
    {
      "cell_type": "code",
      "source": [
        "# get time limit error using recursion\n",
        "def longestPalindromeSubseq(s: str) -> int:\n",
        "  def solve(s,i=0,seq='',ans=[]):\n",
        "    max_len=0\n",
        "    if i>=len(s):\n",
        "      ans.append(seq[:])\n",
        "      return\n",
        "    seq+=s[i]\n",
        "    solve(s,i+1,seq)\n",
        "    seq=seq[:-1]\n",
        "    solve(s,i+1,seq)\n",
        "    for word in ans:\n",
        "      if word==word[::-1]:\n",
        "        temp=len(word)\n",
        "        if max_len<temp:\n",
        "          max_len=temp\n",
        "    return max_len\n",
        "  return solve(s)\n",
        "\n",
        "s=\"aba\"\n",
        "longestPalindromeSubseq(s)"
      ],
      "metadata": {
        "colab": {
          "base_uri": "https://localhost:8080/"
        },
        "id": "EehYWoxTIhM0",
        "outputId": "897e750a-2c2c-4e1d-c997-3c4d10cc4d0d"
      },
      "execution_count": null,
      "outputs": [
        {
          "output_type": "execute_result",
          "data": {
            "text/plain": [
              "3"
            ]
          },
          "metadata": {},
          "execution_count": 8
        }
      ]
    },
    {
      "cell_type": "code",
      "source": [
        "# No time limit error b't of Memozation\n",
        "def mem(f):\n",
        "  memory = {}\n",
        "  def inner_function(*args):\n",
        "      if args not in memory:\n",
        "          memory[args] = f(*args)\n",
        "      return memory[args]\n",
        "  return inner_function\n",
        "@mem\n",
        "def solve(s1,s2,i,j):\n",
        "  if i>=len(s1) or j>=len(s2):\n",
        "      return 0\n",
        "  if s1[i]==s2[j]:\n",
        "      return 1 +solve(s1,s2,i+1,j+1)\n",
        "  else:\n",
        "      return max(solve(s1,s2,i,j+1),solve(s1,s2,i+1,j))\n",
        "text1 = \"abcdabcdabcdabcd\"\n",
        "text2 = text1[::-1]\n",
        "solve(text1,text2,0,0)"
      ],
      "metadata": {
        "colab": {
          "base_uri": "https://localhost:8080/"
        },
        "id": "o-zuiHPZJlAn",
        "outputId": "fe9dff65-6822-4615-9965-8212e8087536"
      },
      "execution_count": null,
      "outputs": [
        {
          "output_type": "execute_result",
          "data": {
            "text/plain": [
              "7"
            ]
          },
          "metadata": {},
          "execution_count": 7
        }
      ]
    },
    {
      "cell_type": "code",
      "source": [
        "def memo(f):\n",
        "  memory={}\n",
        "  def inner(*args):\n",
        "      if args not in memory:\n",
        "          memory[args]=f(*args)\n",
        "      return memory[args]\n",
        "  return inner\n",
        "\n",
        "@memo\n",
        "def solve(s,i,j):\n",
        "  if i>j:\n",
        "    return 0\n",
        "  if i==j:\n",
        "    return 1\n",
        "  if s[i]==s[j]:\n",
        "    return 2+solve(s,i+1,j-1)\n",
        "  else:\n",
        "    return max(solve(s,i+1,j),solve(s,i,j-1))\n",
        "\n",
        "s=\"abcdabcdabcdabcd\"\n",
        "#s='bbbab'\n",
        "idx=0\n",
        "jdx=len(s)-1\n",
        "solve(s,idx,jdx)"
      ],
      "metadata": {
        "colab": {
          "base_uri": "https://localhost:8080/"
        },
        "id": "DzYz773zM76m",
        "outputId": "ab456539-58e6-46df-eb46-d92e85a11e11"
      },
      "execution_count": null,
      "outputs": [
        {
          "output_type": "execute_result",
          "data": {
            "text/plain": [
              "7"
            ]
          },
          "metadata": {},
          "execution_count": 24
        }
      ]
    },
    {
      "cell_type": "code",
      "source": [
        "n=3\n",
        "temp=n\n",
        "cnt=0\n",
        "while temp>0:\n",
        "  if temp%2==0:\n",
        "    cnt+=1\n",
        "  temp=temp//2\n",
        "if 2**cnt==n:\n",
        "  print(True)\n",
        "else:\n",
        "  print(False)\n"
      ],
      "metadata": {
        "colab": {
          "base_uri": "https://localhost:8080/"
        },
        "id": "UadIWQxeSoPL",
        "outputId": "2d875777-86fa-4d57-e8c8-597a8125750e"
      },
      "execution_count": null,
      "outputs": [
        {
          "output_type": "stream",
          "name": "stdout",
          "text": [
            "False\n"
          ]
        }
      ]
    },
    {
      "cell_type": "markdown",
      "source": [
        "## **Sum of Beauty of All Substrings**"
      ],
      "metadata": {
        "id": "2FNqOssZxvJ0"
      }
    },
    {
      "cell_type": "code",
      "source": [
        "s=\"aabcbaa\"\n",
        "ans=0\n",
        "n=len(s)\n",
        "set_ans=set()\n",
        "ans=0\n",
        "for i in range(n):\n",
        "  sub_str=''\n",
        "  for j in range(i,n):\n",
        "    sub_str+=s[j]\n",
        "    if len(sub_str)>=3:\n",
        "      d=set(sub_str)\n",
        "      l=[]\n",
        "      for i in d:\n",
        "        l.append(sub_str.count(i))\n",
        "        mf=max(l)\n",
        "        lf=min(l)\n",
        "      ans+=mf-lf\n",
        "print(ans)\n"
      ],
      "metadata": {
        "id": "p-yf6m2I0Of_",
        "colab": {
          "base_uri": "https://localhost:8080/"
        },
        "outputId": "141ad9fb-8a7f-4b2c-88f3-ccf90343eee8"
      },
      "execution_count": null,
      "outputs": [
        {
          "output_type": "stream",
          "name": "stdout",
          "text": [
            "17\n"
          ]
        }
      ]
    },
    {
      "cell_type": "markdown",
      "source": [
        "## **Longest Palindrome**\n",
        "* Of given stings subtring palindome\n",
        "\n",
        "\n"
      ],
      "metadata": {
        "id": "ikjfvhHTtwnS"
      }
    },
    {
      "cell_type": "code",
      "source": [
        "s =\"abccccdd\"\n",
        "n=len(s)\n",
        "l=[]\n",
        "ans=0\n",
        "for i in range(n):\n",
        "  sub_str=''\n",
        "  for j in range(i,n):\n",
        "    sub_str+=s[j]\n",
        "    l.append(sub_str)\n",
        "  for i in l:\n",
        "    if i==i[::-1] and ans<len(i):\n",
        "      len(i)\n",
        "      ans=len(i)\n",
        "print(ans)"
      ],
      "metadata": {
        "id": "M9a4j9rw6AB8",
        "colab": {
          "base_uri": "https://localhost:8080/"
        },
        "outputId": "f98857a9-7fdc-48df-8acc-e304bca08fbc"
      },
      "execution_count": null,
      "outputs": [
        {
          "output_type": "stream",
          "name": "stdout",
          "text": [
            "4\n"
          ]
        }
      ]
    },
    {
      "cell_type": "markdown",
      "source": [
        "## **Longest Palindrome**\n",
        "* If char is even : Then is totaly use to form palindome\n",
        "* If char count is oddd the we find how many are use to create palindrome\n",
        "* Of given stings possible to create"
      ],
      "metadata": {
        "id": "y_RNFdj669ah"
      }
    },
    {
      "cell_type": "code",
      "source": [
        "# TC : O(n)\n",
        "# SC : O(n)\n",
        "s=\"abccccdd\"\n",
        "char_set=set()\n",
        "ans=0\n",
        "for ch in s:\n",
        "# Check char is present in char_set or not if presnt means the charcter is twise so add 2 in our ans\n",
        "  if ch in char_set:\n",
        "    ans+=2\n",
        "    char_set.remove(ch)\n",
        "  else:\n",
        "    char_set.add(ch)\n",
        "if len(char_set):\n",
        "  ans+=1\n",
        "print(ans)"
      ],
      "metadata": {
        "colab": {
          "base_uri": "https://localhost:8080/"
        },
        "id": "l8nAoeS47bNa",
        "outputId": "3a0899b0-2384-400f-8461-d45b8e1021d6"
      },
      "execution_count": null,
      "outputs": [
        {
          "output_type": "stream",
          "name": "stdout",
          "text": [
            "7\n"
          ]
        }
      ]
    },
    {
      "cell_type": "code",
      "source": [
        "# TC : O(n)\n",
        "# SC : O(n)\n",
        "s =\"abccccdd\"\n",
        "d={}\n",
        "ans=0\n",
        "oddfreq=False\n",
        "for ch in s:\n",
        "  d[ch]=d.get(ch,0)+1\n",
        "for k,v in d.items():\n",
        "  if v%2==0:\n",
        "    ans+=v\n",
        "  else:\n",
        "    ans+=v-1\n",
        "    odd_freq=True\n",
        "if odd_freq:\n",
        "  ans+=1\n",
        "print(ans)\n"
      ],
      "metadata": {
        "colab": {
          "base_uri": "https://localhost:8080/"
        },
        "id": "hof9Z2x9t1hM",
        "outputId": "80716125-15df-44f0-9e2e-5df905851a34"
      },
      "execution_count": null,
      "outputs": [
        {
          "output_type": "stream",
          "name": "stdout",
          "text": [
            "3\n"
          ]
        }
      ]
    },
    {
      "cell_type": "markdown",
      "source": [
        "### **Subsequence Of string**"
      ],
      "metadata": {
        "id": "lVSMtwEffQ7-"
      }
    },
    {
      "cell_type": "code",
      "source": [
        "arr=['a','b','c']\n",
        "def sub_sequence(i=0,seq=[]):\n",
        "  if i>=len(arr):\n",
        "    print(seq)\n",
        "    return\n",
        "  seq.append(arr[i])\n",
        "  sub_sequence(i+1,seq)\n",
        "  seq.remove(arr[i])\n",
        "  sub_sequence(i+1,seq)\n",
        "sub_sequence()"
      ],
      "metadata": {
        "colab": {
          "base_uri": "https://localhost:8080/"
        },
        "id": "UPogGBx9fXeU",
        "outputId": "e5fa6563-4fe5-4b56-c3b2-3cd4012ba586"
      },
      "execution_count": null,
      "outputs": [
        {
          "output_type": "stream",
          "name": "stdout",
          "text": [
            "['a', 'b', 'c']\n",
            "['a', 'b']\n",
            "['a', 'c']\n",
            "['a']\n",
            "['b', 'c']\n",
            "['b']\n",
            "['c']\n",
            "[]\n"
          ]
        }
      ]
    },
    {
      "cell_type": "code",
      "source": [
        "# TC : O(2**n)*(n)\n",
        "s='abc'\n",
        "def sub_sequence(i=0,seq=''):\n",
        "  if i>=len(s):\n",
        "    print(seq)\n",
        "    return\n",
        "  seq+=s[i]\n",
        "  sub_sequence(i+1,seq)\n",
        "  # seq=seq.replace(s[i],'') some times it not working so use this\n",
        "  seq=seq[:-1]\n",
        "  sub_sequence(i+1,seq)\n",
        "sub_sequence()"
      ],
      "metadata": {
        "colab": {
          "base_uri": "https://localhost:8080/"
        },
        "id": "eW7rGzU2uUiz",
        "outputId": "18a52d36-0d16-4c69-fbd8-4eac7c995bde"
      },
      "execution_count": null,
      "outputs": [
        {
          "output_type": "stream",
          "name": "stdout",
          "text": [
            "abc\n",
            "ab\n",
            "ac\n",
            "a\n",
            "bc\n",
            "b\n",
            "c\n",
            "\n"
          ]
        }
      ]
    },
    {
      "cell_type": "markdown",
      "source": [
        "### **Use power set technique**"
      ],
      "metadata": {
        "id": "YBFWgpnMUOqJ"
      }
    },
    {
      "cell_type": "code",
      "source": [
        "# TC : O(2**n)*(n)\n",
        "s='abc'\n",
        "n=len(s)\n",
        "for num in range(2**n):\n",
        "  sub_str=''\n",
        "  for i in range(n):\n",
        "    if num & (1<<i):\n",
        "      sub_str+=s[i]\n",
        "  print(sub_str)\n"
      ],
      "metadata": {
        "colab": {
          "base_uri": "https://localhost:8080/"
        },
        "id": "ArUoqxS7fXgl",
        "outputId": "7ad46c73-004d-4cf4-a56d-585ea54f1253"
      },
      "execution_count": null,
      "outputs": [
        {
          "output_type": "stream",
          "name": "stdout",
          "text": [
            "\n",
            "a\n",
            "b\n",
            "ab\n",
            "c\n",
            "ac\n",
            "bc\n",
            "abc\n"
          ]
        }
      ]
    },
    {
      "cell_type": "code",
      "source": [
        "# TC : O(2**n)*(n)\n",
        "s=[1,2,3]\n",
        "n=len(s)\n",
        "res=[]\n",
        "for num in range(2**n):\n",
        "  ans=[]\n",
        "  for i in range(n):\n",
        "    if num & (1<<i):\n",
        "      ans.append(s[i])\n",
        "  res.append(ans)\n",
        "print(res)"
      ],
      "metadata": {
        "colab": {
          "base_uri": "https://localhost:8080/"
        },
        "id": "p8AJFFF5SGFW",
        "outputId": "7bf530dc-e3e8-4d67-9294-c78ed2ca2b76"
      },
      "execution_count": null,
      "outputs": [
        {
          "output_type": "stream",
          "name": "stdout",
          "text": [
            "[[], [1], [2], [1, 2], [3], [1, 3], [2, 3], [1, 2, 3]]\n"
          ]
        }
      ]
    },
    {
      "cell_type": "code",
      "source": [
        "arr=[1,2,3]\n",
        "def sub(i=0,ans=list()):\n",
        "  res=[]\n",
        "  if i>=len(arr):\n",
        "    if ans not in res:\n",
        "      res.append(ans)\n",
        "    return\n",
        "  ans.append(arr[i])\n",
        "  sub(i+1,ans)\n",
        "  ans.remove(arr[i])\n",
        "  sub(i+1,ans)\n",
        "sub()\n",
        "print(res)"
      ],
      "metadata": {
        "colab": {
          "base_uri": "https://localhost:8080/"
        },
        "id": "FYETjvPPWIuv",
        "outputId": "6f059b54-c584-4a16-d3de-9e61f7a42d6f"
      },
      "execution_count": null,
      "outputs": [
        {
          "output_type": "stream",
          "name": "stdout",
          "text": [
            "[[], [1], [2], [1, 2], [3], [1, 3], [2, 3], [1, 2, 3]]\n"
          ]
        }
      ]
    },
    {
      "cell_type": "markdown",
      "source": [
        "### **Combination**"
      ],
      "metadata": {
        "id": "65nnihoi0dep"
      }
    },
    {
      "cell_type": "code",
      "source": [
        "# All possible combination with given size\n",
        "res=[]\n",
        "def solve(start,n,k,temp=[]):\n",
        "  if k==0:\n",
        "    res.append(temp[:])\n",
        "    return\n",
        "  if start>n:\n",
        "    return\n",
        "  temp.append(start)\n",
        "  solve(start+1,n,k-1,temp)\n",
        "  temp.pop()\n",
        "  solve(start+1,n,k,temp)\n",
        "  return res\n",
        "\n",
        "solve(1,5,3)"
      ],
      "metadata": {
        "colab": {
          "base_uri": "https://localhost:8080/"
        },
        "id": "EUcnbBmKcEV4",
        "outputId": "178b1aff-6e50-4ac2-a1a8-b5aca8755f38"
      },
      "execution_count": null,
      "outputs": [
        {
          "output_type": "execute_result",
          "data": {
            "text/plain": [
              "[[1, 2, 3],\n",
              " [1, 2, 4],\n",
              " [1, 2, 5],\n",
              " [1, 3, 4],\n",
              " [1, 3, 5],\n",
              " [1, 4, 5],\n",
              " [2, 3, 4],\n",
              " [2, 3, 5],\n",
              " [2, 4, 5],\n",
              " [3, 4, 5]]"
            ]
          },
          "metadata": {},
          "execution_count": 37
        }
      ]
    },
    {
      "cell_type": "code",
      "source": [
        "# With the use of for loop\n",
        "ans=[]\n",
        "def solve(start,n,k,temp=[]):\n",
        "  if k==0:\n",
        "    ans.append(temp[:])\n",
        "    return\n",
        "  if start>n:\n",
        "    return\n",
        "  for i in range(start,n+1):\n",
        "    temp.append(i)\n",
        "    solve(i+1,n,k-1,temp)\n",
        "    temp.remove(i)\n",
        "  return ans\n",
        "solve(1,5,3)"
      ],
      "metadata": {
        "colab": {
          "base_uri": "https://localhost:8080/"
        },
        "id": "7YCku2TB7tML",
        "outputId": "4ec90995-7dc9-4752-9d9b-e45c9b85e5b0"
      },
      "execution_count": null,
      "outputs": [
        {
          "output_type": "execute_result",
          "data": {
            "text/plain": [
              "[[1, 2, 3],\n",
              " [1, 2, 4],\n",
              " [1, 2, 5],\n",
              " [1, 3, 4],\n",
              " [1, 3, 5],\n",
              " [1, 4, 5],\n",
              " [2, 3, 4],\n",
              " [2, 3, 5],\n",
              " [2, 4, 5],\n",
              " [3, 4, 5]]"
            ]
          },
          "metadata": {},
          "execution_count": 8
        }
      ]
    },
    {
      "cell_type": "code",
      "source": [
        "# All possible combanation with give size and sum\n",
        "res=[]\n",
        "def solve(start,n,k,temp=[]):\n",
        "  if k==0:\n",
        "    if sum(temp)==n:\n",
        "      res.append(temp[:])\n",
        "    return\n",
        "  if start>n:\n",
        "    return\n",
        "  temp.append(start)\n",
        "  solve(start+1,n,k-1,temp)\n",
        "  temp.pop()\n",
        "  solve(start+1,n,k,temp)\n",
        "  return res\n",
        "\n",
        "solve(1,7,3)"
      ],
      "metadata": {
        "colab": {
          "base_uri": "https://localhost:8080/"
        },
        "id": "7pBqQJ_scYXT",
        "outputId": "955efbe1-34e6-4e8a-b955-b34b4701ceb8"
      },
      "execution_count": null,
      "outputs": [
        {
          "output_type": "execute_result",
          "data": {
            "text/plain": [
              "[[1, 2, 4]]"
            ]
          },
          "metadata": {},
          "execution_count": 38
        }
      ]
    },
    {
      "cell_type": "code",
      "source": [
        "def cmbsum(i,arr, target,l=[]):\n",
        "  if i==len(arr):\n",
        "      if target==0:\n",
        "        print(l)\n",
        "      return\n",
        "  if arr[i]<=target:\n",
        "      l.append(arr[i])\n",
        "      cmbsum(0,arr,target-arr[i],l)\n",
        "      l.remove(arr[i])\n",
        "  cmbsum(i+1,arr,target,l)\n",
        "nums = [1,2,3]\n",
        "target = 4\n",
        "cmbsum(0,nums,target)"
      ],
      "metadata": {
        "colab": {
          "base_uri": "https://localhost:8080/"
        },
        "id": "1wH5iDaGO7We",
        "outputId": "69fc72de-df68-40a5-905e-4b151572fcf9"
      },
      "execution_count": null,
      "outputs": [
        {
          "output_type": "stream",
          "name": "stdout",
          "text": [
            "[1, 1, 1, 1]\n",
            "[1, 1, 2]\n",
            "[1, 2, 1]\n",
            "[1, 3]\n",
            "[2, 1, 1]\n",
            "[2, 2]\n",
            "[3, 1]\n"
          ]
        }
      ]
    },
    {
      "cell_type": "code",
      "source": [
        "def solve(idx,target,arr):\n",
        "  if target==0:\n",
        "    return 1\n",
        "  if idx>=len(arr) or target<0:\n",
        "    return 0\n",
        "  take_idx=solve(0,target-arr[idx],arr)\n",
        "  not_take=solve(idx+1,target,arr)\n",
        "  return take_idx+not_take\n",
        "nums = [1,2,3]\n",
        "target = 4\n",
        "solve(0,target,nums)"
      ],
      "metadata": {
        "colab": {
          "base_uri": "https://localhost:8080/"
        },
        "id": "hxN6dZpnL95h",
        "outputId": "3de7f06f-9a01-4ac9-fb36-2c22e632833a"
      },
      "execution_count": null,
      "outputs": [
        {
          "output_type": "execute_result",
          "data": {
            "text/plain": [
              "7"
            ]
          },
          "metadata": {},
          "execution_count": 12
        }
      ]
    },
    {
      "cell_type": "markdown",
      "source": [
        "### **Memozation**"
      ],
      "metadata": {
        "id": "A0EhWZtVUG6P"
      }
    },
    {
      "cell_type": "code",
      "source": [
        "def fibonacci(n):\n",
        "  if n==1:\n",
        "    return 1\n",
        "  if n==2:\n",
        "    return 1\n",
        "  if n>2:\n",
        "    return fibonacci(n-1)+fibonacci(n-2)\n",
        "for i in range(1,11):\n",
        "  print(fibonacci(i))"
      ],
      "metadata": {
        "colab": {
          "base_uri": "https://localhost:8080/"
        },
        "id": "MZRvqHX2UN__",
        "outputId": "6e4d516f-abab-43d8-82a1-a86706c16740"
      },
      "execution_count": null,
      "outputs": [
        {
          "output_type": "stream",
          "name": "stdout",
          "text": [
            "1\n",
            "1\n",
            "2\n",
            "3\n",
            "5\n",
            "8\n",
            "13\n",
            "21\n",
            "34\n",
            "55\n"
          ]
        }
      ]
    },
    {
      "cell_type": "code",
      "source": [
        "# Using this we can calculate for long value\n",
        "fibonacci_memo={}\n",
        "def fibonacci(n):\n",
        "  if n in fibonacci_memo:\n",
        "    return fibonacci_memo[n]\n",
        "  if n==1:\n",
        "    value=1\n",
        "  if n==2:\n",
        "    value=1\n",
        "  if n>2:\n",
        "    value=fibonacci(n-1)+fibonacci(n-2)\n",
        "  fibonacci_memo[n]=value\n",
        "  return value\n",
        "for i in range(1,10):\n",
        "  print(fibonacci(i))"
      ],
      "metadata": {
        "colab": {
          "base_uri": "https://localhost:8080/"
        },
        "id": "8wN1yl2wVCsT",
        "outputId": "cb778e00-b9bd-4bdd-dddb-147573cef77c"
      },
      "execution_count": null,
      "outputs": [
        {
          "output_type": "stream",
          "name": "stdout",
          "text": [
            "1\n",
            "1\n",
            "2\n",
            "3\n",
            "5\n",
            "8\n",
            "13\n",
            "21\n",
            "34\n"
          ]
        }
      ]
    },
    {
      "cell_type": "code",
      "source": [
        "from functools import lru_cache\n",
        "@lru_cache(maxsize=1000)\n",
        "def fibonacci(n):\n",
        "  if n==1:\n",
        "    return 1\n",
        "  if n==2:\n",
        "    return 1\n",
        "  if n>2:\n",
        "    return fibonacci(n-1)+fibonacci(n-2)\n",
        "for i in range(1,11):\n",
        "  print(fibonacci(i))\n"
      ],
      "metadata": {
        "colab": {
          "base_uri": "https://localhost:8080/"
        },
        "id": "4YEIivpoWNrW",
        "outputId": "7b6f696a-bffa-4300-d73a-79197e8a9023"
      },
      "execution_count": null,
      "outputs": [
        {
          "output_type": "stream",
          "name": "stdout",
          "text": [
            "1\n",
            "1\n",
            "2\n",
            "3\n",
            "5\n",
            "8\n",
            "13\n",
            "21\n",
            "34\n",
            "55\n"
          ]
        }
      ]
    },
    {
      "cell_type": "code",
      "source": [
        "ans=[]\n",
        "def solve(start,n,k,temp=[]):\n",
        "  if k==0:\n",
        "    if sum(temp)==n:\n",
        "      ans.append(temp[:])\n",
        "    return\n",
        "  if start>n:\n",
        "    return\n",
        "  for i in range(start,n+1):\n",
        "    temp.append(i)\n",
        "    solve(i+1,n,k-1,temp)\n",
        "    temp.remove(i)\n",
        "  return ans\n",
        "solve(1,7,3)"
      ],
      "metadata": {
        "colab": {
          "base_uri": "https://localhost:8080/"
        },
        "id": "UhR74BM99pvP",
        "outputId": "8218a0d5-7134-4a76-d63f-10ff394f1db5"
      },
      "execution_count": null,
      "outputs": [
        {
          "output_type": "execute_result",
          "data": {
            "text/plain": [
              "[[1, 2, 4]]"
            ]
          },
          "metadata": {},
          "execution_count": 10
        }
      ]
    },
    {
      "cell_type": "code",
      "source": [
        "# Degit repeate any numbers times\n",
        "# Combination Sum I\n",
        "ans=[]\n",
        "def cmbsum(i,arr, target,l=[]):\n",
        "  if i==len(arr):\n",
        "    if target==0:\n",
        "      ans.append(l[:])\n",
        "    return\n",
        "  if arr[i]<=target:\n",
        "    l.append(arr[i])\n",
        "    cmbsum(i,arr,target-arr[i],l)\n",
        "    l.remove(arr[i])\n",
        "  cmbsum(i+1,arr,target,l)\n",
        "arr=[2,3,6,7]\n",
        "target = 7\n",
        "cmbsum(0,arr,target)\n",
        "print(ans)"
      ],
      "metadata": {
        "colab": {
          "base_uri": "https://localhost:8080/"
        },
        "id": "70oeMWbYe0JN",
        "outputId": "43ea8776-3a44-48b5-9c12-80163f235a37"
      },
      "execution_count": null,
      "outputs": [
        {
          "output_type": "stream",
          "name": "stdout",
          "text": [
            "[[2, 2, 3], [7]]\n"
          ]
        }
      ]
    },
    {
      "cell_type": "code",
      "source": [
        "ans=set()\n",
        "def solve(idx,nums,target,temp=[]):\n",
        "  if target==0:\n",
        "    temp.sort()\n",
        "    ans.add(tuple(temp[:]))\n",
        "    return\n",
        "  if idx>=len(nums) or target<0:\n",
        "    return\n",
        "  temp.append(nums[idx])\n",
        "  solve(0,nums,target-nums[idx])\n",
        "  temp.remove(nums[idx])\n",
        "  solve(idx+1,nums,target)\n",
        "nums = [2,3,6,7]\n",
        "target = 7\n",
        "solve(0,nums,target)\n",
        "print(ans)\n"
      ],
      "metadata": {
        "colab": {
          "base_uri": "https://localhost:8080/"
        },
        "id": "O3CKnituoOSX",
        "outputId": "35c4b2e1-8410-42f6-cf95-29cb6d0d33fb"
      },
      "execution_count": null,
      "outputs": [
        {
          "output_type": "stream",
          "name": "stdout",
          "text": [
            "{(2, 2, 3), (7,)}\n"
          ]
        }
      ]
    },
    {
      "cell_type": "code",
      "source": [
        "# Degit not repate\n",
        "# Combination Sum II\n",
        "ans=set()\n",
        "def cmbsum(ind,arr,target,ds=[]):\n",
        "  if target==0:\n",
        "      ans.add(tuple(ds))\n",
        "      return\n",
        "  for i in range(ind,len(arr)):\n",
        "      if i>ind and arr[i]==arr[i-1]:\n",
        "          continue\n",
        "      if arr[i]>target:\n",
        "          break\n",
        "      ds.append(arr[i])\n",
        "      cmbsum(i+1,arr,target-arr[i],ds)\n",
        "      ds.pop()\n",
        "candidates=[2,3,6,7]\n",
        "target = 7\n",
        "candidates.sort()\n",
        "cmbsum(0,candidates,target)\n",
        "print(ans)"
      ],
      "metadata": {
        "colab": {
          "base_uri": "https://localhost:8080/"
        },
        "id": "IsJza4LN0X-Q",
        "outputId": "737250af-dd2c-403a-a34a-015069cc6294"
      },
      "execution_count": null,
      "outputs": [
        {
          "output_type": "stream",
          "name": "stdout",
          "text": [
            "{(7,)}\n"
          ]
        }
      ]
    },
    {
      "cell_type": "code",
      "source": [
        "# Combination Sum\n",
        "ans=[]\n",
        "def solve(idx,nums,target,temp=[]):\n",
        "  if target==0:\n",
        "    ans.append(temp[:])\n",
        "    return\n",
        "  if idx>=len(nums) or target<0:\n",
        "    return\n",
        "  temp.append(nums[idx])\n",
        "  solve(idx+1,nums,target-nums[idx])\n",
        "  temp.remove(nums[idx])\n",
        "  solve(idx+1,nums,target)\n",
        "nums = [2,3,6,7]\n",
        "target = 7\n",
        "solve(0,nums,target)\n",
        "print(ans)\n"
      ],
      "metadata": {
        "colab": {
          "base_uri": "https://localhost:8080/"
        },
        "id": "VT4_mD5vI8ID",
        "outputId": "ec39cfd5-eb79-4a79-9d59-ab2fd1e961f7"
      },
      "execution_count": null,
      "outputs": [
        {
          "output_type": "stream",
          "name": "stdout",
          "text": [
            "[[7]]\n"
          ]
        }
      ]
    },
    {
      "cell_type": "markdown",
      "source": [
        "### **Subset Sum**"
      ],
      "metadata": {
        "id": "p_8HlJvlHusi"
      }
    },
    {
      "cell_type": "code",
      "source": [
        "# TC: 2**n +2**nlog2**n\n",
        "def sub_set_sum(arr,i=0,sum=0):\n",
        "  if i==len(arr):\n",
        "    print(sum)\n",
        "    return\n",
        "  sub_set_sum(arr,i+1,sum+arr[i])\n",
        "  sub_set_sum(arr,i+1,sum)\n",
        "arr=[3,2,1]\n",
        "sub_set_sum(arr,i=0,sum=0)"
      ],
      "metadata": {
        "colab": {
          "base_uri": "https://localhost:8080/"
        },
        "id": "sfDGkhOuHmmw",
        "outputId": "2d4d0b3a-26c4-44ef-df60-f2a3dfc390a9"
      },
      "execution_count": null,
      "outputs": [
        {
          "output_type": "stream",
          "name": "stdout",
          "text": [
            "6\n",
            "5\n",
            "4\n",
            "3\n",
            "3\n",
            "2\n",
            "1\n",
            "0\n"
          ]
        }
      ]
    },
    {
      "cell_type": "code",
      "source": [
        "res=[]\n",
        "def solve(start,n,k,temp=[]):\n",
        "  if k==0:\n",
        "    if sum(temp)==n:\n",
        "      res.append(temp[:])\n",
        "    return\n",
        "  if start>n:\n",
        "    return\n",
        "  temp.append(start)\n",
        "  solve(start+1,n,k-1,temp)\n",
        "  temp.pop()\n",
        "  solve(start+1,n,k,temp)\n",
        "  return res\n",
        "\n",
        "solve(1,7,3)"
      ],
      "metadata": {
        "colab": {
          "base_uri": "https://localhost:8080/"
        },
        "id": "DrifFJkiSrUd",
        "outputId": "036726d0-a409-4176-8b78-e82265ce79c8"
      },
      "execution_count": null,
      "outputs": [
        {
          "output_type": "execute_result",
          "data": {
            "text/plain": [
              "[[1, 2, 4]]"
            ]
          },
          "metadata": {},
          "execution_count": 35
        }
      ]
    },
    {
      "cell_type": "code",
      "source": [
        "res=[]\n",
        "def solve(start,n,k,temp=[]):\n",
        "  arr=[i for i in range(1,n) if i<n]\n",
        "  if k==0:\n",
        "    if sum(temp)==n:\n",
        "      res.append(temp[:])\n",
        "      return\n",
        "  if start>=len(arr):\n",
        "    return\n",
        "  temp.append(arr[start])\n",
        "  solve(start+1,n,k-1,temp)\n",
        "  temp.remove(arr[start])\n",
        "  solve(start+1,n,k,temp)\n",
        "  return res\n",
        "solve(0,7,3)"
      ],
      "metadata": {
        "colab": {
          "base_uri": "https://localhost:8080/"
        },
        "id": "mvZ7zmAEdYUM",
        "outputId": "5b3b236a-8f3f-462f-e9a1-1f416970fc3c"
      },
      "execution_count": null,
      "outputs": [
        {
          "output_type": "execute_result",
          "data": {
            "text/plain": [
              "[[1, 2, 4]]"
            ]
          },
          "metadata": {},
          "execution_count": 1
        }
      ]
    },
    {
      "cell_type": "markdown",
      "source": [
        "### **Letter Combinations of a Phone Number**"
      ],
      "metadata": {
        "id": "_StGOxU2sMnt"
      }
    },
    {
      "cell_type": "code",
      "source": [
        "def letterCombinations(digits):\n",
        "  d={'1':[None],'2':['a','b','c'],'3':['d','e','f'],'4':['g','h','i'],\n",
        "  '5':['j','k','l'],'6':['m','n','o'],'7':['p','q','r','s'],'8':['t','u','v'],'9':['w','x','y','z'],'0':[None]}\n",
        "  n=len(digits)\n",
        "  arr=[]\n",
        "\n",
        "  for i in digits:\n",
        "    arr.extend(d[i])\n",
        "  print(arr)\n",
        "  ans=[]\n",
        "  def solve(idx,arr,n,temp=[]):\n",
        "    if n==0:\n",
        "      ans.append(temp[:])\n",
        "      return\n",
        "    if idx>=len(arr) or n<0:\n",
        "      return\n",
        "    temp.append(arr[idx])\n",
        "    solve(idx+1,arr,n-1)\n",
        "    temp.remove(arr[idx])\n",
        "    solve(idx+1,arr,n)\n",
        "  solve(0,arr,n)\n",
        "  return ans\n",
        "\n",
        "\n",
        "digits=\"23\"\n",
        "letterCombinations(digits)"
      ],
      "metadata": {
        "colab": {
          "base_uri": "https://localhost:8080/"
        },
        "id": "r9ljtTR4sVK1",
        "outputId": "66eaa4b4-91a7-4ed4-f8fb-8c4bfba9858c"
      },
      "execution_count": null,
      "outputs": [
        {
          "output_type": "stream",
          "name": "stdout",
          "text": [
            "['a', 'b', 'c', 'd', 'e', 'f']\n"
          ]
        },
        {
          "output_type": "execute_result",
          "data": {
            "text/plain": [
              "[['a', 'b'],\n",
              " ['a', 'c'],\n",
              " ['a', 'd'],\n",
              " ['a', 'e'],\n",
              " ['a', 'f'],\n",
              " ['b', 'c'],\n",
              " ['b', 'd'],\n",
              " ['b', 'e'],\n",
              " ['b', 'f'],\n",
              " ['c', 'd'],\n",
              " ['c', 'e'],\n",
              " ['c', 'f'],\n",
              " ['d', 'e'],\n",
              " ['d', 'f'],\n",
              " ['e', 'f']]"
            ]
          },
          "metadata": {},
          "execution_count": 50
        }
      ]
    },
    {
      "cell_type": "code",
      "source": [
        "result=[]\n",
        "def solve(idx,digits,d,temp=[]):\n",
        "  if len(digits)==0:\n",
        "    return\n",
        "  if idx>=len(digits):\n",
        "      # global result\n",
        "      result.append(temp[:])\n",
        "      return\n",
        "  ch=digits[idx]\n",
        "  s=d[ch]\n",
        "  for i in range(len(s)):\n",
        "    temp.append(s[i])\n",
        "    solve(idx+1,digits,d,temp)\n",
        "    temp.pop()\n",
        "\n",
        "d={'2':'abc','3':'def','4':'ghi','5':'jkl','6':'mno','7':'pqrs'\n",
        ",'8':'tuv','9':'wxyz'}\n",
        "digits=\"23\"\n",
        "solve(0,digits,d)\n",
        "print(result)\n"
      ],
      "metadata": {
        "colab": {
          "base_uri": "https://localhost:8080/"
        },
        "id": "X2FHi1dbALwx",
        "outputId": "a3a5f1d1-119c-4735-d4fe-3c09ebe69332"
      },
      "execution_count": null,
      "outputs": [
        {
          "output_type": "stream",
          "name": "stdout",
          "text": [
            "[['a', 'd'], ['a', 'e'], ['a', 'f'], ['b', 'd'], ['b', 'e'], ['b', 'f'], ['c', 'd'], ['c', 'e'], ['c', 'f']]\n"
          ]
        }
      ]
    },
    {
      "cell_type": "code",
      "source": [
        "result=[]\n",
        "def solve(idx,digits,d,temp=''):\n",
        "  if len(digits)==0:\n",
        "    return\n",
        "  if idx>=len(digits):\n",
        "    global result\n",
        "    result.append(temp)\n",
        "    return\n",
        "  ch=digits[idx]\n",
        "  s=d[ch]\n",
        "  for i in range(len(s)):\n",
        "    temp+=s[i]\n",
        "    solve(idx+1,digits,d,temp)\n",
        "    #temp=temp.replace(s[i],'') # Some time it not working give wrong output so use\n",
        "    temp=temp[:-1]\n",
        "\n",
        "d={'2':'abc','3':'def','4':'ghi','5':'jkl','6':'mno','7':'pqrs'\n",
        ",'8':'tuv','9':'wxyz'}\n",
        "digits=\"22\"\n",
        "solve(0,digits,d)\n",
        "print(result)"
      ],
      "metadata": {
        "colab": {
          "base_uri": "https://localhost:8080/"
        },
        "id": "aL3tkgCIBK9V",
        "outputId": "29215b1a-54a5-4876-e1d5-12d9a3b793c3"
      },
      "execution_count": null,
      "outputs": [
        {
          "output_type": "stream",
          "name": "stdout",
          "text": [
            "['aa', 'ab', 'ac', 'ba', 'bb', 'bc', 'ca', 'cb', 'cc']\n"
          ]
        }
      ]
    },
    {
      "cell_type": "markdown",
      "source": [
        "### **Generate Parentheses**"
      ],
      "metadata": {
        "id": "YsAU_dZhIHJs"
      }
    },
    {
      "cell_type": "code",
      "source": [
        "res=[]\n",
        "def isValid(s):\n",
        "  count=0\n",
        "  for ch in s:\n",
        "    if ch=='(':\n",
        "      count+=1\n",
        "    else:\n",
        "      count-=1\n",
        "      if count<0:\n",
        "        return False\n",
        "  if count==0:\n",
        "    return True\n",
        "  else:\n",
        "    return False\n",
        "\n",
        "def solve(n,curr=''):\n",
        "  if len(curr)==2*n:\n",
        "    #print(curr)\n",
        "    if isValid(curr):\n",
        "      res.append(curr[:])\n",
        "    return\n",
        "  curr+=\"(\"\n",
        "  solve(n,curr)\n",
        "  curr=curr[:-1]\n",
        "\n",
        "  curr+=\")\"\n",
        "  solve(n,curr)\n",
        "  curr=curr[:-1]\n",
        "n=2\n",
        "solve(n)\n",
        "print(res)"
      ],
      "metadata": {
        "colab": {
          "base_uri": "https://localhost:8080/"
        },
        "id": "iainpkbCILbo",
        "outputId": "045c9244-f041-4215-e105-8fd03a19861a"
      },
      "execution_count": null,
      "outputs": [
        {
          "output_type": "stream",
          "name": "stdout",
          "text": [
            "['(())', '()()']\n"
          ]
        }
      ]
    },
    {
      "cell_type": "code",
      "source": [
        "res=[]\n",
        "def solve(n,curr='',op=0,close=0):\n",
        "  if len(curr)==2*n:\n",
        "    res.append(curr[:])\n",
        "    return\n",
        "  if op<n:\n",
        "    curr+=\"(\"\n",
        "    solve(n,curr,op+1,close)\n",
        "    curr=curr[:-1]\n",
        "  if close<op:\n",
        "    curr+=\")\"\n",
        "    solve(n,curr,op,close+1)\n",
        "    curr=curr[:-1]\n",
        "n=2\n",
        "solve(n)\n",
        "print(res)\n"
      ],
      "metadata": {
        "colab": {
          "base_uri": "https://localhost:8080/"
        },
        "id": "HJ3Xtjj4b_9G",
        "outputId": "8f620013-dac4-4134-8203-6a384907d805"
      },
      "execution_count": null,
      "outputs": [
        {
          "output_type": "stream",
          "name": "stdout",
          "text": [
            "['(())', '()()']\n"
          ]
        }
      ]
    },
    {
      "cell_type": "markdown",
      "source": [
        "### **Longest Common Subsequence**"
      ],
      "metadata": {
        "id": "-BY2RNOerA7O"
      }
    },
    {
      "cell_type": "code",
      "source": [
        "def f(text1,text2,i,j):\n",
        "  if (i<0 or j<0):\n",
        "      return 0\n",
        "  if text1[i]==text2[j]:\n",
        "      return 1+f(text1,text2,i-1,j-1)\n",
        "  else:\n",
        "      return max(f(text1,text2,i-1,j),f(text1,text2,i,j-1))\n",
        "\n",
        "text1=\"abcde\"\n",
        "text2='acdefgthb'\n",
        "i=len(text1)-1\n",
        "j=len(text2)-1\n",
        "f(text1,text2,i,j)"
      ],
      "metadata": {
        "colab": {
          "base_uri": "https://localhost:8080/"
        },
        "id": "YsegZinYfXnt",
        "outputId": "6c215cbc-c465-42e4-f71c-7b98cce64672"
      },
      "execution_count": null,
      "outputs": [
        {
          "output_type": "execute_result",
          "data": {
            "text/plain": [
              "4"
            ]
          },
          "metadata": {},
          "execution_count": 9
        }
      ]
    },
    {
      "cell_type": "markdown",
      "source": [
        "### **Longest Palindrome Substring**"
      ],
      "metadata": {
        "id": "kpfyQg8e70Dt"
      }
    },
    {
      "cell_type": "code",
      "source": [
        "def longestPalindrome(s):\n",
        "  n=len(s)\n",
        "  l=[]\n",
        "  ans=''\n",
        "  for i in range(n):\n",
        "      sub_str=''\n",
        "      for j in range(i,n):\n",
        "          sub_str+=s[j]\n",
        "          l.append(sub_str)\n",
        "  max_len=0\n",
        "  for word in l:\n",
        "    if word==word[::-1]:\n",
        "      if len(word)>=max_len:\n",
        "        ans=word\n",
        "        max_len=len(ans)\n",
        "  return ans\n",
        "\n",
        "s=\"babad\"\n",
        "longestPalindrome(s)"
      ],
      "metadata": {
        "colab": {
          "base_uri": "https://localhost:8080/",
          "height": 35
        },
        "id": "J61RHnEwfXvA",
        "outputId": "0ccfa982-e535-4cf2-a5e2-f94065fa2e88"
      },
      "execution_count": null,
      "outputs": [
        {
          "output_type": "execute_result",
          "data": {
            "text/plain": [
              "'aba'"
            ],
            "application/vnd.google.colaboratory.intrinsic+json": {
              "type": "string"
            }
          },
          "metadata": {},
          "execution_count": 37
        }
      ]
    },
    {
      "cell_type": "code",
      "source": [
        "l=[[1,2,3],[4,5,6],[1,3,2]]\n",
        "for i in l:\n",
        "  if i not in ans:\n",
        "    ans.append(i)\n",
        "print(ans)\n"
      ],
      "metadata": {
        "id": "v7CyT_VbfXxL",
        "colab": {
          "base_uri": "https://localhost:8080/"
        },
        "outputId": "f22d4bbf-077c-4b4a-f0cd-e919ba7a60ef"
      },
      "execution_count": null,
      "outputs": [
        {
          "output_type": "stream",
          "name": "stdout",
          "text": [
            "[[1, 2, 3], [4, 5, 6], [1, 3, 2]]\n"
          ]
        }
      ]
    },
    {
      "cell_type": "code",
      "source": [],
      "metadata": {
        "id": "9LBZ8tgMfX0v"
      },
      "execution_count": null,
      "outputs": []
    },
    {
      "cell_type": "code",
      "source": [],
      "metadata": {
        "id": "SKWcNJQHfX3E"
      },
      "execution_count": null,
      "outputs": []
    },
    {
      "cell_type": "code",
      "source": [],
      "metadata": {
        "id": "Io8MPbKNfX59"
      },
      "execution_count": null,
      "outputs": []
    },
    {
      "cell_type": "code",
      "source": [],
      "metadata": {
        "id": "AF0FitiVfX8U"
      },
      "execution_count": null,
      "outputs": []
    },
    {
      "cell_type": "code",
      "source": [],
      "metadata": {
        "id": "0VUGketWfX_o"
      },
      "execution_count": null,
      "outputs": []
    },
    {
      "cell_type": "code",
      "source": [],
      "metadata": {
        "id": "SQZd-kMGfYCA"
      },
      "execution_count": null,
      "outputs": []
    },
    {
      "cell_type": "code",
      "source": [],
      "metadata": {
        "id": "3B7gEUqkfYFo"
      },
      "execution_count": null,
      "outputs": []
    },
    {
      "cell_type": "code",
      "source": [],
      "metadata": {
        "id": "T98kS1TtfYI8"
      },
      "execution_count": null,
      "outputs": []
    },
    {
      "cell_type": "code",
      "source": [],
      "metadata": {
        "id": "mcqFOrG-fYLI"
      },
      "execution_count": null,
      "outputs": []
    },
    {
      "cell_type": "code",
      "source": [],
      "metadata": {
        "id": "4KCoXUJWfYNU"
      },
      "execution_count": null,
      "outputs": []
    },
    {
      "cell_type": "code",
      "source": [],
      "metadata": {
        "id": "xqBBdJ81fYQS"
      },
      "execution_count": null,
      "outputs": []
    },
    {
      "cell_type": "code",
      "source": [],
      "metadata": {
        "id": "JFm_DR0ffYSP"
      },
      "execution_count": null,
      "outputs": []
    },
    {
      "cell_type": "code",
      "source": [],
      "metadata": {
        "id": "VXlJOK_zfYVy"
      },
      "execution_count": null,
      "outputs": []
    },
    {
      "cell_type": "code",
      "source": [],
      "metadata": {
        "id": "QDN551pbfYYC"
      },
      "execution_count": null,
      "outputs": []
    },
    {
      "cell_type": "code",
      "source": [],
      "metadata": {
        "id": "8NZG0huFfYba"
      },
      "execution_count": null,
      "outputs": []
    },
    {
      "cell_type": "markdown",
      "source": [
        "## **Deep Copy Vs Shallow Copy**"
      ],
      "metadata": {
        "id": "chq2BTU1xjP6"
      }
    },
    {
      "cell_type": "markdown",
      "source": [
        "### **Shallow Copy**\n",
        "* In shallow copy element is not copy actualy but other varaible point the same memory location so if change in one variable automatically change in other variable also"
      ],
      "metadata": {
        "id": "RwFABgHDyeLn"
      }
    },
    {
      "cell_type": "code",
      "source": [
        "lst1=[1,2,3]\n",
        "lst2=lst1"
      ],
      "metadata": {
        "id": "Ej6872iyt1k9"
      },
      "execution_count": null,
      "outputs": []
    },
    {
      "cell_type": "code",
      "source": [
        "lst1,lst2"
      ],
      "metadata": {
        "id": "ilUPurU4t1nk",
        "colab": {
          "base_uri": "https://localhost:8080/"
        },
        "outputId": "9c706d1f-bcc7-4188-95d6-b8d2fc84e3c4"
      },
      "execution_count": null,
      "outputs": [
        {
          "output_type": "execute_result",
          "data": {
            "text/plain": [
              "([1, 2, 3], [1, 2, 3])"
            ]
          },
          "metadata": {},
          "execution_count": 2
        }
      ]
    },
    {
      "cell_type": "code",
      "source": [
        "lst1[1]=100"
      ],
      "metadata": {
        "id": "dC6DuNpft1qZ"
      },
      "execution_count": null,
      "outputs": []
    },
    {
      "cell_type": "code",
      "source": [
        "lst1,lst2"
      ],
      "metadata": {
        "id": "CRu8Rv3it1tG",
        "colab": {
          "base_uri": "https://localhost:8080/"
        },
        "outputId": "816184c4-ffe1-478d-e446-307df0d2d993"
      },
      "execution_count": null,
      "outputs": [
        {
          "output_type": "execute_result",
          "data": {
            "text/plain": [
              "([1, 100, 3], [1, 100, 3])"
            ]
          },
          "metadata": {},
          "execution_count": 4
        }
      ]
    },
    {
      "cell_type": "code",
      "source": [
        "lst1=[1,2,3]\n",
        "lst2=lst1.copy()"
      ],
      "metadata": {
        "id": "P4pPJaTx6nj6"
      },
      "execution_count": null,
      "outputs": []
    },
    {
      "cell_type": "code",
      "source": [
        "lst1,lst2"
      ],
      "metadata": {
        "colab": {
          "base_uri": "https://localhost:8080/"
        },
        "id": "RNjHtD9W6nop",
        "outputId": "f56b9902-4574-46c7-ce7f-2eff9a0ee9e3"
      },
      "execution_count": null,
      "outputs": [
        {
          "output_type": "execute_result",
          "data": {
            "text/plain": [
              "([1, 2, 3], [1, 2, 3])"
            ]
          },
          "metadata": {},
          "execution_count": 36
        }
      ]
    },
    {
      "cell_type": "code",
      "source": [
        "lst1[1]=100"
      ],
      "metadata": {
        "id": "NPYLZtSz6xhm"
      },
      "execution_count": null,
      "outputs": []
    },
    {
      "cell_type": "code",
      "source": [
        "lst1,lst2"
      ],
      "metadata": {
        "colab": {
          "base_uri": "https://localhost:8080/"
        },
        "id": "-hzxO0ZT6xtb",
        "outputId": "4d43546f-fce7-41d1-d984-6af03e2d941f"
      },
      "execution_count": null,
      "outputs": [
        {
          "output_type": "execute_result",
          "data": {
            "text/plain": [
              "([1, 100, 3], [1, 2, 3])"
            ]
          },
          "metadata": {},
          "execution_count": 38
        }
      ]
    },
    {
      "cell_type": "code",
      "source": [
        "lst1=[[1,2,3],[4,5,6]]\n",
        "lst2=lst1"
      ],
      "metadata": {
        "id": "GdY3AoFFt1vq"
      },
      "execution_count": null,
      "outputs": []
    },
    {
      "cell_type": "code",
      "source": [
        "lst1,lst2"
      ],
      "metadata": {
        "id": "d9amlVa3t1yX",
        "colab": {
          "base_uri": "https://localhost:8080/"
        },
        "outputId": "3f3cd630-ab5f-4bc8-ba95-ef5c7969738e"
      },
      "execution_count": null,
      "outputs": [
        {
          "output_type": "execute_result",
          "data": {
            "text/plain": [
              "([[1, 2, 3], [4, 5, 6]], [[1, 2, 3], [4, 5, 6]])"
            ]
          },
          "metadata": {},
          "execution_count": 8
        }
      ]
    },
    {
      "cell_type": "code",
      "source": [
        "lst1[1][1]=100"
      ],
      "metadata": {
        "id": "6ovewk0Xt11G"
      },
      "execution_count": null,
      "outputs": []
    },
    {
      "cell_type": "code",
      "source": [
        "lst1,lst2"
      ],
      "metadata": {
        "id": "dT9BpCfZt13-",
        "colab": {
          "base_uri": "https://localhost:8080/"
        },
        "outputId": "2ab2cf59-d624-478c-926d-5846ba78863b"
      },
      "execution_count": null,
      "outputs": [
        {
          "output_type": "execute_result",
          "data": {
            "text/plain": [
              "([[1, 2, 3], [4, 100, 6]], [[1, 2, 3], [4, 100, 6]])"
            ]
          },
          "metadata": {},
          "execution_count": 10
        }
      ]
    },
    {
      "cell_type": "code",
      "source": [
        "lst1=[[1,2,3],[4,5,6]]\n",
        "lst2=lst1.copy()"
      ],
      "metadata": {
        "id": "qfkf0gtCt16F"
      },
      "execution_count": null,
      "outputs": []
    },
    {
      "cell_type": "code",
      "source": [
        "lst1,lst2"
      ],
      "metadata": {
        "id": "OS7vAsS-t19i",
        "colab": {
          "base_uri": "https://localhost:8080/"
        },
        "outputId": "5d677453-71b2-4788-ad6d-772923676a9d"
      },
      "execution_count": null,
      "outputs": [
        {
          "output_type": "execute_result",
          "data": {
            "text/plain": [
              "([[1, 2, 3], [4, 5, 6]], [[1, 2, 3], [4, 5, 6]])"
            ]
          },
          "metadata": {},
          "execution_count": 12
        }
      ]
    },
    {
      "cell_type": "code",
      "source": [
        "lst1[1][1]=100"
      ],
      "metadata": {
        "id": "ec4hrqYGywKE"
      },
      "execution_count": null,
      "outputs": []
    },
    {
      "cell_type": "code",
      "source": [
        "lst1,lst2"
      ],
      "metadata": {
        "colab": {
          "base_uri": "https://localhost:8080/"
        },
        "id": "jO5NQtDEywMt",
        "outputId": "3ecd4e0f-4658-42e7-d508-719db806994e"
      },
      "execution_count": null,
      "outputs": [
        {
          "output_type": "execute_result",
          "data": {
            "text/plain": [
              "([[1, 2, 3], [4, 100, 6]], [[1, 2, 3], [4, 100, 6]])"
            ]
          },
          "metadata": {},
          "execution_count": 14
        }
      ]
    },
    {
      "cell_type": "markdown",
      "source": [
        "### **Deep Copy**"
      ],
      "metadata": {
        "id": "N5CVf48_zg1U"
      }
    },
    {
      "cell_type": "code",
      "source": [
        "import copy\n",
        "lst1=[1,2,3]\n",
        "lst2=copy.deepcopy(lst1)"
      ],
      "metadata": {
        "id": "Q9Ta1KbYywQS"
      },
      "execution_count": null,
      "outputs": []
    },
    {
      "cell_type": "code",
      "source": [
        "lst1,lst2"
      ],
      "metadata": {
        "colab": {
          "base_uri": "https://localhost:8080/"
        },
        "id": "ryS5tG93ywTn",
        "outputId": "752a357a-9b28-45bc-f3c4-36936f0df6cb"
      },
      "execution_count": null,
      "outputs": [
        {
          "output_type": "execute_result",
          "data": {
            "text/plain": [
              "([1, 2, 3], [1, 2, 3])"
            ]
          },
          "metadata": {},
          "execution_count": 24
        }
      ]
    },
    {
      "cell_type": "code",
      "source": [
        "lst1[1]=100"
      ],
      "metadata": {
        "id": "bRjxlwjUywWv"
      },
      "execution_count": null,
      "outputs": []
    },
    {
      "cell_type": "markdown",
      "source": [
        "* change is not refelect in lst2 so we can say that the both variable point to diffrent memory locations\n"
      ],
      "metadata": {
        "id": "Z8Jj3R3i0XdP"
      }
    },
    {
      "cell_type": "code",
      "source": [
        "lst1,lst2"
      ],
      "metadata": {
        "colab": {
          "base_uri": "https://localhost:8080/"
        },
        "id": "ty3xPcu5ywZd",
        "outputId": "a211a69c-88ae-45bb-ecdc-86a8581e3115"
      },
      "execution_count": null,
      "outputs": [
        {
          "output_type": "execute_result",
          "data": {
            "text/plain": [
              "([1, 100, 3], [1, 2, 3])"
            ]
          },
          "metadata": {},
          "execution_count": 26
        }
      ]
    },
    {
      "cell_type": "code",
      "source": [
        "lst1=[[1,2,3],[4,5,6]]\n",
        "lst2=copy.deepcopy(lst1)"
      ],
      "metadata": {
        "id": "5l6w-CB-ywcn"
      },
      "execution_count": null,
      "outputs": []
    },
    {
      "cell_type": "code",
      "source": [
        "lst1,lst2"
      ],
      "metadata": {
        "colab": {
          "base_uri": "https://localhost:8080/"
        },
        "id": "EsHp7TENywf5",
        "outputId": "dc3c5705-30b7-4688-9127-574293a4d05f"
      },
      "execution_count": null,
      "outputs": [
        {
          "output_type": "execute_result",
          "data": {
            "text/plain": [
              "([[1, 2, 3], [4, 5, 6]], [[1, 2, 3], [4, 5, 6]])"
            ]
          },
          "metadata": {},
          "execution_count": 28
        }
      ]
    },
    {
      "cell_type": "code",
      "source": [
        "lst1[1][1]=1000"
      ],
      "metadata": {
        "id": "OFgQRiykywl_"
      },
      "execution_count": null,
      "outputs": []
    },
    {
      "cell_type": "code",
      "source": [
        "lst1,lst2"
      ],
      "metadata": {
        "colab": {
          "base_uri": "https://localhost:8080/"
        },
        "id": "GU5U1mEN1Cv-",
        "outputId": "78dc69aa-6334-4173-f920-c14da3c6dd8e"
      },
      "execution_count": null,
      "outputs": [
        {
          "output_type": "execute_result",
          "data": {
            "text/plain": [
              "([[1, 2, 3], [4, 1000, 6]], [[1, 2, 3], [4, 5, 6]])"
            ]
          },
          "metadata": {},
          "execution_count": 30
        }
      ]
    }
  ]
}